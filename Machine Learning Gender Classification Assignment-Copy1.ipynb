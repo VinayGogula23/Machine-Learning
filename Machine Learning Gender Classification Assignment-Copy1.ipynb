{
 "cells": [
  {
   "cell_type": "markdown",
   "id": "ffc56057",
   "metadata": {},
   "source": [
    "# Gender Classification"
   ]
  },
  {
   "cell_type": "markdown",
   "id": "08e06900",
   "metadata": {},
   "source": [
    "## About Dataset\n",
    "\n",
    "## Context\n",
    "\n",
    "While I was practicing machine learning, I wanted to create a simple dataset that is closely aligned to the real world scenario and gives better results to whet my appetite on this domain. If you are a beginner who wants to try solving classification problems in machine learning and if you prefer achieving better results, try using this dataset in your projects which will be a great place to start.\n",
    "\n",
    "## Content\n",
    "This dataset contains 7 features and a label column.\n",
    "\n",
    "longhair - This column contains 0's and 1's where 1 is \"long hair\" and 0 is \"not long hair\".\n",
    "foreheadwidthcm - This column is in CM's. This is the width of the forehead.\n",
    "foreheadheightcm - This is the height of the forehead and it's in Cm's.\n",
    "nosewide - This column contains 0's and 1's where 1 is \"wide nose\" and 0 is \"not wide nose\".\n",
    "noselong - This column contains 0's and 1's where 1 is \"Long nose\" and 0 is \"not long nose\".\n",
    "lipsthin - This column contains 0's and 1's where 1 represents the \"thin lips\" while 0 is \"Not thin lips\".\n",
    "distancenosetoliplong - This column contains 0's and 1's where 1 represents the \"long distance between nose and lips\" while 0 is \"short distance between nose and lips\".\n",
    "\n",
    "gender - This is either \"Male\" or \"Female\"."
   ]
  },
  {
   "cell_type": "code",
   "execution_count": 4,
   "id": "7e638cdb",
   "metadata": {},
   "outputs": [],
   "source": [
    "import pandas as pd \n",
    "import warnings \n",
    "warnings.filterwarnings('ignore')"
   ]
  },
  {
   "cell_type": "code",
   "execution_count": 5,
   "id": "2701e3c4",
   "metadata": {},
   "outputs": [
    {
     "data": {
      "text/html": [
       "<div>\n",
       "<style scoped>\n",
       "    .dataframe tbody tr th:only-of-type {\n",
       "        vertical-align: middle;\n",
       "    }\n",
       "\n",
       "    .dataframe tbody tr th {\n",
       "        vertical-align: top;\n",
       "    }\n",
       "\n",
       "    .dataframe thead th {\n",
       "        text-align: right;\n",
       "    }\n",
       "</style>\n",
       "<table border=\"1\" class=\"dataframe\">\n",
       "  <thead>\n",
       "    <tr style=\"text-align: right;\">\n",
       "      <th></th>\n",
       "      <th>long_hair</th>\n",
       "      <th>forehead_width_cm</th>\n",
       "      <th>forehead_height_cm</th>\n",
       "      <th>nose_wide</th>\n",
       "      <th>nose_long</th>\n",
       "      <th>lips_thin</th>\n",
       "      <th>distance_nose_to_lip_long</th>\n",
       "      <th>gender</th>\n",
       "    </tr>\n",
       "  </thead>\n",
       "  <tbody>\n",
       "    <tr>\n",
       "      <th>0</th>\n",
       "      <td>1</td>\n",
       "      <td>11.8</td>\n",
       "      <td>6.1</td>\n",
       "      <td>1</td>\n",
       "      <td>0</td>\n",
       "      <td>1</td>\n",
       "      <td>1</td>\n",
       "      <td>Male</td>\n",
       "    </tr>\n",
       "    <tr>\n",
       "      <th>1</th>\n",
       "      <td>0</td>\n",
       "      <td>14.0</td>\n",
       "      <td>5.4</td>\n",
       "      <td>0</td>\n",
       "      <td>0</td>\n",
       "      <td>1</td>\n",
       "      <td>0</td>\n",
       "      <td>Female</td>\n",
       "    </tr>\n",
       "    <tr>\n",
       "      <th>2</th>\n",
       "      <td>0</td>\n",
       "      <td>11.8</td>\n",
       "      <td>6.3</td>\n",
       "      <td>1</td>\n",
       "      <td>1</td>\n",
       "      <td>1</td>\n",
       "      <td>1</td>\n",
       "      <td>Male</td>\n",
       "    </tr>\n",
       "    <tr>\n",
       "      <th>3</th>\n",
       "      <td>0</td>\n",
       "      <td>14.4</td>\n",
       "      <td>6.1</td>\n",
       "      <td>0</td>\n",
       "      <td>1</td>\n",
       "      <td>1</td>\n",
       "      <td>1</td>\n",
       "      <td>Male</td>\n",
       "    </tr>\n",
       "    <tr>\n",
       "      <th>4</th>\n",
       "      <td>1</td>\n",
       "      <td>13.5</td>\n",
       "      <td>5.9</td>\n",
       "      <td>0</td>\n",
       "      <td>0</td>\n",
       "      <td>0</td>\n",
       "      <td>0</td>\n",
       "      <td>Female</td>\n",
       "    </tr>\n",
       "    <tr>\n",
       "      <th>...</th>\n",
       "      <td>...</td>\n",
       "      <td>...</td>\n",
       "      <td>...</td>\n",
       "      <td>...</td>\n",
       "      <td>...</td>\n",
       "      <td>...</td>\n",
       "      <td>...</td>\n",
       "      <td>...</td>\n",
       "    </tr>\n",
       "    <tr>\n",
       "      <th>4996</th>\n",
       "      <td>1</td>\n",
       "      <td>13.6</td>\n",
       "      <td>5.1</td>\n",
       "      <td>0</td>\n",
       "      <td>0</td>\n",
       "      <td>0</td>\n",
       "      <td>0</td>\n",
       "      <td>Female</td>\n",
       "    </tr>\n",
       "    <tr>\n",
       "      <th>4997</th>\n",
       "      <td>1</td>\n",
       "      <td>11.9</td>\n",
       "      <td>5.4</td>\n",
       "      <td>0</td>\n",
       "      <td>0</td>\n",
       "      <td>0</td>\n",
       "      <td>0</td>\n",
       "      <td>Female</td>\n",
       "    </tr>\n",
       "    <tr>\n",
       "      <th>4998</th>\n",
       "      <td>1</td>\n",
       "      <td>12.9</td>\n",
       "      <td>5.7</td>\n",
       "      <td>0</td>\n",
       "      <td>0</td>\n",
       "      <td>0</td>\n",
       "      <td>0</td>\n",
       "      <td>Female</td>\n",
       "    </tr>\n",
       "    <tr>\n",
       "      <th>4999</th>\n",
       "      <td>1</td>\n",
       "      <td>13.2</td>\n",
       "      <td>6.2</td>\n",
       "      <td>0</td>\n",
       "      <td>0</td>\n",
       "      <td>0</td>\n",
       "      <td>0</td>\n",
       "      <td>Female</td>\n",
       "    </tr>\n",
       "    <tr>\n",
       "      <th>5000</th>\n",
       "      <td>1</td>\n",
       "      <td>15.4</td>\n",
       "      <td>5.4</td>\n",
       "      <td>1</td>\n",
       "      <td>1</td>\n",
       "      <td>1</td>\n",
       "      <td>1</td>\n",
       "      <td>Male</td>\n",
       "    </tr>\n",
       "  </tbody>\n",
       "</table>\n",
       "<p>5001 rows × 8 columns</p>\n",
       "</div>"
      ],
      "text/plain": [
       "      long_hair  forehead_width_cm  forehead_height_cm  nose_wide  nose_long  \\\n",
       "0             1               11.8                 6.1          1          0   \n",
       "1             0               14.0                 5.4          0          0   \n",
       "2             0               11.8                 6.3          1          1   \n",
       "3             0               14.4                 6.1          0          1   \n",
       "4             1               13.5                 5.9          0          0   \n",
       "...         ...                ...                 ...        ...        ...   \n",
       "4996          1               13.6                 5.1          0          0   \n",
       "4997          1               11.9                 5.4          0          0   \n",
       "4998          1               12.9                 5.7          0          0   \n",
       "4999          1               13.2                 6.2          0          0   \n",
       "5000          1               15.4                 5.4          1          1   \n",
       "\n",
       "      lips_thin  distance_nose_to_lip_long  gender  \n",
       "0             1                          1    Male  \n",
       "1             1                          0  Female  \n",
       "2             1                          1    Male  \n",
       "3             1                          1    Male  \n",
       "4             0                          0  Female  \n",
       "...         ...                        ...     ...  \n",
       "4996          0                          0  Female  \n",
       "4997          0                          0  Female  \n",
       "4998          0                          0  Female  \n",
       "4999          0                          0  Female  \n",
       "5000          1                          1    Male  \n",
       "\n",
       "[5001 rows x 8 columns]"
      ]
     },
     "execution_count": 5,
     "metadata": {},
     "output_type": "execute_result"
    }
   ],
   "source": [
    "data=pd.read_csv(r\"C:\\Users\\Gogula Vinay\\Desktop\\Innomatics labs\\Data Science\\Machine Learning\\Gender Classification dataset\\gender_classification_v7.csv\")\n",
    "data"
   ]
  },
  {
   "cell_type": "code",
   "execution_count": 6,
   "id": "2abd1be6",
   "metadata": {},
   "outputs": [
    {
     "data": {
      "text/plain": [
       "1768"
      ]
     },
     "execution_count": 6,
     "metadata": {},
     "output_type": "execute_result"
    }
   ],
   "source": [
    "data.duplicated().sum()"
   ]
  },
  {
   "cell_type": "code",
   "execution_count": 7,
   "id": "dd6d4fd8",
   "metadata": {},
   "outputs": [],
   "source": [
    "data.drop_duplicates(inplace=True,ignore_index=True,)"
   ]
  },
  {
   "cell_type": "code",
   "execution_count": 8,
   "id": "3e7b939c",
   "metadata": {},
   "outputs": [
    {
     "data": {
      "text/plain": [
       "0"
      ]
     },
     "execution_count": 8,
     "metadata": {},
     "output_type": "execute_result"
    }
   ],
   "source": [
    "data.duplicated().sum()"
   ]
  },
  {
   "cell_type": "code",
   "execution_count": 9,
   "id": "29b5635e",
   "metadata": {},
   "outputs": [
    {
     "name": "stdout",
     "output_type": "stream",
     "text": [
      "<class 'pandas.core.frame.DataFrame'>\n",
      "RangeIndex: 3233 entries, 0 to 3232\n",
      "Data columns (total 8 columns):\n",
      " #   Column                     Non-Null Count  Dtype  \n",
      "---  ------                     --------------  -----  \n",
      " 0   long_hair                  3233 non-null   int64  \n",
      " 1   forehead_width_cm          3233 non-null   float64\n",
      " 2   forehead_height_cm         3233 non-null   float64\n",
      " 3   nose_wide                  3233 non-null   int64  \n",
      " 4   nose_long                  3233 non-null   int64  \n",
      " 5   lips_thin                  3233 non-null   int64  \n",
      " 6   distance_nose_to_lip_long  3233 non-null   int64  \n",
      " 7   gender                     3233 non-null   object \n",
      "dtypes: float64(2), int64(5), object(1)\n",
      "memory usage: 202.2+ KB\n"
     ]
    }
   ],
   "source": [
    "data.info()"
   ]
  },
  {
   "cell_type": "code",
   "execution_count": 10,
   "id": "b2739bad",
   "metadata": {},
   "outputs": [
    {
     "name": "stdout",
     "output_type": "stream",
     "text": [
      "count    3233.000000\n",
      "mean       13.217198\n",
      "std         1.115993\n",
      "min        11.400000\n",
      "25%        12.300000\n",
      "50%        13.200000\n",
      "75%        14.100000\n",
      "max        15.500000\n",
      "Name: forehead_width_cm, dtype: float64\n",
      "\n",
      "count    3233.000000\n",
      "mean        5.966038\n",
      "std         0.549789\n",
      "min         5.100000\n",
      "25%         5.500000\n",
      "50%         5.900000\n",
      "75%         6.400000\n",
      "max         7.100000\n",
      "Name: forehead_height_cm, dtype: float64\n"
     ]
    }
   ],
   "source": [
    "print(data.forehead_width_cm.describe())\n",
    "print(\"\")\n",
    "print(data.forehead_height_cm.describe())"
   ]
  },
  {
   "cell_type": "code",
   "execution_count": 11,
   "id": "2a8e1aa5",
   "metadata": {},
   "outputs": [
    {
     "name": "stdout",
     "output_type": "stream",
     "text": [
      "long_hair\n",
      "[1 0]\n",
      "---------------------------------------------------------------------------\n",
      "forehead_width_cm\n",
      "[11.8 14.  14.4 13.5 13.  15.3 11.9 12.1 12.5 15.5 14.7 14.5 14.2 15.2\n",
      " 14.6 12.8 12.9 12.2 12.3 12.7 14.1 11.5 13.8 13.7 12.  11.4 15.4 13.3\n",
      " 13.2 14.3 13.9 11.7 15.1 15.  12.4 11.6 12.6 14.8 13.1 13.4 13.6 14.9]\n",
      "---------------------------------------------------------------------------\n",
      "forehead_height_cm\n",
      "[6.1 5.4 6.3 5.9 6.8 6.2 5.2 5.8 6.7 6.5 6.  5.6 7.  6.4 5.3 5.7 5.1 5.5\n",
      " 7.1 6.6 6.9]\n",
      "---------------------------------------------------------------------------\n",
      "nose_wide\n",
      "[1 0]\n",
      "---------------------------------------------------------------------------\n",
      "nose_long\n",
      "[0 1]\n",
      "---------------------------------------------------------------------------\n",
      "lips_thin\n",
      "[1 0]\n",
      "---------------------------------------------------------------------------\n",
      "distance_nose_to_lip_long\n",
      "[1 0]\n",
      "---------------------------------------------------------------------------\n",
      "gender\n",
      "['Male' 'Female']\n",
      "---------------------------------------------------------------------------\n"
     ]
    }
   ],
   "source": [
    "for i in data.columns:\n",
    "    print(i)\n",
    "    print(data[i].unique())\n",
    "    print('-'*75)"
   ]
  },
  {
   "cell_type": "code",
   "execution_count": 12,
   "id": "60293d78",
   "metadata": {},
   "outputs": [],
   "source": [
    "data[['long_hair','nose_wide','nose_long','lips_thin','distance_nose_to_lip_long']]=data[['long_hair','nose_wide','nose_long','lips_thin','distance_nose_to_lip_long']].astype(object)"
   ]
  },
  {
   "cell_type": "code",
   "execution_count": 13,
   "id": "8802e1ab",
   "metadata": {},
   "outputs": [
    {
     "name": "stdout",
     "output_type": "stream",
     "text": [
      "<class 'pandas.core.frame.DataFrame'>\n",
      "RangeIndex: 3233 entries, 0 to 3232\n",
      "Data columns (total 8 columns):\n",
      " #   Column                     Non-Null Count  Dtype  \n",
      "---  ------                     --------------  -----  \n",
      " 0   long_hair                  3233 non-null   object \n",
      " 1   forehead_width_cm          3233 non-null   float64\n",
      " 2   forehead_height_cm         3233 non-null   float64\n",
      " 3   nose_wide                  3233 non-null   object \n",
      " 4   nose_long                  3233 non-null   object \n",
      " 5   lips_thin                  3233 non-null   object \n",
      " 6   distance_nose_to_lip_long  3233 non-null   object \n",
      " 7   gender                     3233 non-null   object \n",
      "dtypes: float64(2), object(6)\n",
      "memory usage: 202.2+ KB\n"
     ]
    }
   ],
   "source": [
    "data.info()"
   ]
  },
  {
   "cell_type": "code",
   "execution_count": 14,
   "id": "52f53a27",
   "metadata": {},
   "outputs": [],
   "source": [
    "import matplotlib.pyplot as plt\n",
    "import seaborn as sns"
   ]
  },
  {
   "cell_type": "code",
   "execution_count": 15,
   "id": "2d1433b1",
   "metadata": {},
   "outputs": [
    {
     "data": {
      "text/plain": [
       "<AxesSubplot:xlabel='forehead_width_cm', ylabel='Density'>"
      ]
     },
     "execution_count": 15,
     "metadata": {},
     "output_type": "execute_result"
    },
    {
     "data": {
      "image/png": "[encoded data removed]",
      "text/plain": [
       "<Figure size 432x288 with 1 Axes>"
      ]
     },
     "metadata": {
      "needs_background": "light"
     },
     "output_type": "display_data"
    }
   ],
   "source": [
    "sns.distplot(data['forehead_width_cm'])"
   ]
  },
  {
   "cell_type": "code",
   "execution_count": 16,
   "id": "03faade9",
   "metadata": {},
   "outputs": [
    {
     "data": {
      "text/plain": [
       "<AxesSubplot:xlabel='forehead_height_cm', ylabel='Density'>"
      ]
     },
     "execution_count": 16,
     "metadata": {},
     "output_type": "execute_result"
    },
    {
     "data": {
      "image/png": "[encoded data removed]",
      "text/plain": [
       "<Figure size 432x288 with 1 Axes>"
      ]
     },
     "metadata": {
      "needs_background": "light"
     },
     "output_type": "display_data"
    }
   ],
   "source": [
    "sns.distplot(data['forehead_height_cm'])"
   ]
  },
  {
   "cell_type": "code",
   "execution_count": 17,
   "id": "8aa8aec5",
   "metadata": {},
   "outputs": [
    {
     "data": {
      "text/plain": [
       "<AxesSubplot:>"
      ]
     },
     "execution_count": 17,
     "metadata": {},
     "output_type": "execute_result"
    },
    {
     "data": {
      "image/png": "[encoded data removed]",
      "text/plain": [
       "<Figure size 360x360 with 2 Axes>"
      ]
     },
     "metadata": {
      "needs_background": "light"
     },
     "output_type": "display_data"
    }
   ],
   "source": [
    "plt.figure(figsize=(5,5))\n",
    "sns.heatmap(data.corr(),annot=True)"
   ]
  },
  {
   "cell_type": "code",
   "execution_count": 37,
   "id": "b2218c84",
   "metadata": {},
   "outputs": [],
   "source": [
    "f_v=data[data.columns[:7]]  # we can use in this way also (data.iloc[:,0:7])"
   ]
  },
  {
   "cell_type": "code",
   "execution_count": 30,
   "id": "cab0d56e",
   "metadata": {},
   "outputs": [
    {
     "data": {
      "text/html": [
       "<div>\n",
       "<style scoped>\n",
       "    .dataframe tbody tr th:only-of-type {\n",
       "        vertical-align: middle;\n",
       "    }\n",
       "\n",
       "    .dataframe tbody tr th {\n",
       "        vertical-align: top;\n",
       "    }\n",
       "\n",
       "    .dataframe thead th {\n",
       "        text-align: right;\n",
       "    }\n",
       "</style>\n",
       "<table border=\"1\" class=\"dataframe\">\n",
       "  <thead>\n",
       "    <tr style=\"text-align: right;\">\n",
       "      <th></th>\n",
       "      <th>long_hair</th>\n",
       "      <th>forehead_width_cm</th>\n",
       "      <th>forehead_height_cm</th>\n",
       "      <th>nose_wide</th>\n",
       "      <th>nose_long</th>\n",
       "      <th>lips_thin</th>\n",
       "      <th>distance_nose_to_lip_long</th>\n",
       "    </tr>\n",
       "  </thead>\n",
       "  <tbody>\n",
       "    <tr>\n",
       "      <th>0</th>\n",
       "      <td>1</td>\n",
       "      <td>11.8</td>\n",
       "      <td>6.1</td>\n",
       "      <td>1</td>\n",
       "      <td>0</td>\n",
       "      <td>1</td>\n",
       "      <td>1</td>\n",
       "    </tr>\n",
       "    <tr>\n",
       "      <th>1</th>\n",
       "      <td>0</td>\n",
       "      <td>14.0</td>\n",
       "      <td>5.4</td>\n",
       "      <td>0</td>\n",
       "      <td>0</td>\n",
       "      <td>1</td>\n",
       "      <td>0</td>\n",
       "    </tr>\n",
       "    <tr>\n",
       "      <th>2</th>\n",
       "      <td>0</td>\n",
       "      <td>11.8</td>\n",
       "      <td>6.3</td>\n",
       "      <td>1</td>\n",
       "      <td>1</td>\n",
       "      <td>1</td>\n",
       "      <td>1</td>\n",
       "    </tr>\n",
       "    <tr>\n",
       "      <th>3</th>\n",
       "      <td>0</td>\n",
       "      <td>14.4</td>\n",
       "      <td>6.1</td>\n",
       "      <td>0</td>\n",
       "      <td>1</td>\n",
       "      <td>1</td>\n",
       "      <td>1</td>\n",
       "    </tr>\n",
       "    <tr>\n",
       "      <th>4</th>\n",
       "      <td>1</td>\n",
       "      <td>13.5</td>\n",
       "      <td>5.9</td>\n",
       "      <td>0</td>\n",
       "      <td>0</td>\n",
       "      <td>0</td>\n",
       "      <td>0</td>\n",
       "    </tr>\n",
       "    <tr>\n",
       "      <th>...</th>\n",
       "      <td>...</td>\n",
       "      <td>...</td>\n",
       "      <td>...</td>\n",
       "      <td>...</td>\n",
       "      <td>...</td>\n",
       "      <td>...</td>\n",
       "      <td>...</td>\n",
       "    </tr>\n",
       "    <tr>\n",
       "      <th>3228</th>\n",
       "      <td>1</td>\n",
       "      <td>11.7</td>\n",
       "      <td>6.1</td>\n",
       "      <td>1</td>\n",
       "      <td>1</td>\n",
       "      <td>0</td>\n",
       "      <td>1</td>\n",
       "    </tr>\n",
       "    <tr>\n",
       "      <th>3229</th>\n",
       "      <td>1</td>\n",
       "      <td>12.6</td>\n",
       "      <td>5.7</td>\n",
       "      <td>0</td>\n",
       "      <td>0</td>\n",
       "      <td>1</td>\n",
       "      <td>0</td>\n",
       "    </tr>\n",
       "    <tr>\n",
       "      <th>3230</th>\n",
       "      <td>1</td>\n",
       "      <td>14.1</td>\n",
       "      <td>7.0</td>\n",
       "      <td>1</td>\n",
       "      <td>1</td>\n",
       "      <td>1</td>\n",
       "      <td>1</td>\n",
       "    </tr>\n",
       "    <tr>\n",
       "      <th>3231</th>\n",
       "      <td>1</td>\n",
       "      <td>11.6</td>\n",
       "      <td>5.9</td>\n",
       "      <td>0</td>\n",
       "      <td>0</td>\n",
       "      <td>0</td>\n",
       "      <td>1</td>\n",
       "    </tr>\n",
       "    <tr>\n",
       "      <th>3232</th>\n",
       "      <td>1</td>\n",
       "      <td>12.3</td>\n",
       "      <td>6.9</td>\n",
       "      <td>0</td>\n",
       "      <td>1</td>\n",
       "      <td>1</td>\n",
       "      <td>1</td>\n",
       "    </tr>\n",
       "  </tbody>\n",
       "</table>\n",
       "<p>3233 rows × 7 columns</p>\n",
       "</div>"
      ],
      "text/plain": [
       "     long_hair  forehead_width_cm  forehead_height_cm nose_wide nose_long  \\\n",
       "0            1               11.8                 6.1         1         0   \n",
       "1            0               14.0                 5.4         0         0   \n",
       "2            0               11.8                 6.3         1         1   \n",
       "3            0               14.4                 6.1         0         1   \n",
       "4            1               13.5                 5.9         0         0   \n",
       "...        ...                ...                 ...       ...       ...   \n",
       "3228         1               11.7                 6.1         1         1   \n",
       "3229         1               12.6                 5.7         0         0   \n",
       "3230         1               14.1                 7.0         1         1   \n",
       "3231         1               11.6                 5.9         0         0   \n",
       "3232         1               12.3                 6.9         0         1   \n",
       "\n",
       "     lips_thin distance_nose_to_lip_long  \n",
       "0            1                         1  \n",
       "1            1                         0  \n",
       "2            1                         1  \n",
       "3            1                         1  \n",
       "4            0                         0  \n",
       "...        ...                       ...  \n",
       "3228         0                         1  \n",
       "3229         1                         0  \n",
       "3230         1                         1  \n",
       "3231         0                         1  \n",
       "3232         1                         1  \n",
       "\n",
       "[3233 rows x 7 columns]"
      ]
     },
     "execution_count": 30,
     "metadata": {},
     "output_type": "execute_result"
    }
   ],
   "source": [
    "f_v"
   ]
  },
  {
   "cell_type": "code",
   "execution_count": 125,
   "id": "f801a7a9",
   "metadata": {},
   "outputs": [
    {
     "data": {
      "text/plain": [
       "<AxesSubplot:xlabel='forehead_width_cm'>"
      ]
     },
     "execution_count": 125,
     "metadata": {},
     "output_type": "execute_result"
    },
    {
     "data": {
      "image/png": "[encoded data removed]",
      "text/plain": [
       "<Figure size 432x288 with 1 Axes>"
      ]
     },
     "metadata": {
      "needs_background": "light"
     },
     "output_type": "display_data"
    }
   ],
   "source": [
    "sns.boxplot(data['forehead_width_cm'])"
   ]
  },
  {
   "cell_type": "code",
   "execution_count": 126,
   "id": "db4dddd5",
   "metadata": {},
   "outputs": [
    {
     "data": {
      "text/plain": [
       "<AxesSubplot:xlabel='forehead_height_cm'>"
      ]
     },
     "execution_count": 126,
     "metadata": {},
     "output_type": "execute_result"
    },
    {
     "data": {
      "image/png": "[encoded data removed]",
      "text/plain": [
       "<Figure size 432x288 with 1 Axes>"
      ]
     },
     "metadata": {
      "needs_background": "light"
     },
     "output_type": "display_data"
    }
   ],
   "source": [
    "sns.boxplot(data['forehead_height_cm'])"
   ]
  },
  {
   "cell_type": "code",
   "execution_count": 54,
   "id": "7d270021",
   "metadata": {},
   "outputs": [
    {
     "data": {
      "text/plain": [
       "<AxesSubplot:>"
      ]
     },
     "execution_count": 54,
     "metadata": {},
     "output_type": "execute_result"
    },
    {
     "data": {
      "image/png": "[encoded data removed]",
      "text/plain": [
       "<Figure size 360x360 with 1 Axes>"
      ]
     },
     "metadata": {
      "needs_background": "light"
     },
     "output_type": "display_data"
    }
   ],
   "source": [
    "c=[]\n",
    "l=[]\n",
    "for y in f_v.columns:\n",
    "    if f_v[y].dtype!=\"O\":\n",
    "        c.append(y)\n",
    "    else:\n",
    "        l.append(y)\n",
    "plt.figure(figsize=(5,5))\n",
    "f_v[c].boxplot()"
   ]
  },
  {
   "cell_type": "code",
   "execution_count": 55,
   "id": "7d7f5cb5",
   "metadata": {},
   "outputs": [
    {
     "data": {
      "image/png": "[encoded data removed]",
      "text/plain": [
       "<Figure size 432x288 with 1 Axes>"
      ]
     },
     "metadata": {
      "needs_background": "light"
     },
     "output_type": "display_data"
    }
   ],
   "source": [
    "plt.bar(c_l[\"gender\"].unique(),c_l.value_counts().values)\n",
    "plt.xticks(c_l[\"gender\"].unique())\n",
    "plt.show()"
   ]
  },
  {
   "cell_type": "code",
   "execution_count": 60,
   "id": "722e16c3",
   "metadata": {},
   "outputs": [
    {
     "data": {
      "image/png": "[encoded data removed]",
      "text/plain": [
       "<Figure size 432x288 with 1 Axes>"
      ]
     },
     "metadata": {},
     "output_type": "display_data"
    }
   ],
   "source": [
    "plt.pie([a1,a2],labels=[b1,b2],radius=2,autopct='%0.1f%%')\n",
    "plt.title('Pie')\n",
    "plt.show()"
   ]
  },
  {
   "cell_type": "code",
   "execution_count": 61,
   "id": "2a135666",
   "metadata": {},
   "outputs": [
    {
     "data": {
      "text/plain": [
       "Text(0, 0.5, 'forehead_width_cm')"
      ]
     },
     "execution_count": 61,
     "metadata": {},
     "output_type": "execute_result"
    },
    {
     "data": {
      "image/png": "[encoded data removed]",
      "text/plain": [
       "<Figure size 360x360 with 1 Axes>"
      ]
     },
     "metadata": {
      "needs_background": "light"
     },
     "output_type": "display_data"
    }
   ],
   "source": [
    "y=data.groupby(['gender'])['forehead_width_cm']\n",
    "plt.figure(figsize=(5,5))\n",
    "y.mean().plot(kind='bar')\n",
    "plt.xlabel('gender')\n",
    "plt.ylabel('forehead_width_cm')"
   ]
  },
  {
   "cell_type": "code",
   "execution_count": 62,
   "id": "929bec42",
   "metadata": {},
   "outputs": [
    {
     "data": {
      "text/plain": [
       "Text(0, 0.5, 'forehead_width_cm')"
      ]
     },
     "execution_count": 62,
     "metadata": {},
     "output_type": "execute_result"
    },
    {
     "data": {
      "image/png": "[encoded data removed]",
      "text/plain": [
       "<Figure size 360x360 with 1 Axes>"
      ]
     },
     "metadata": {
      "needs_background": "light"
     },
     "output_type": "display_data"
    }
   ],
   "source": [
    "y=data.groupby(['gender'])['forehead_height_cm']\n",
    "plt.figure(figsize=(5,5))\n",
    "y.mean().plot(kind='bar')\n",
    "plt.xlabel('gender')\n",
    "plt.ylabel('forehead_width_cm')"
   ]
  },
  {
   "cell_type": "code",
   "execution_count": 111,
   "id": "906682ea",
   "metadata": {},
   "outputs": [],
   "source": [
    "from sklearn.preprocessing import LabelEncoder"
   ]
  },
  {
   "cell_type": "code",
   "execution_count": 112,
   "id": "e066f8b3",
   "metadata": {},
   "outputs": [],
   "source": [
    "lb=LabelEncoder()"
   ]
  },
  {
   "cell_type": "code",
   "execution_count": 113,
   "id": "983d493c",
   "metadata": {},
   "outputs": [],
   "source": [
    "newlable=lb.fit_transform(data['gender'])"
   ]
  },
  {
   "cell_type": "code",
   "execution_count": 114,
   "id": "a6a253e7",
   "metadata": {},
   "outputs": [
    {
     "data": {
      "text/plain": [
       "array(['Female', 'Male'], dtype=object)"
      ]
     },
     "execution_count": 114,
     "metadata": {},
     "output_type": "execute_result"
    }
   ],
   "source": [
    "lb.classes_"
   ]
  },
  {
   "cell_type": "code",
   "execution_count": 115,
   "id": "ed0755e4",
   "metadata": {},
   "outputs": [
    {
     "data": {
      "text/plain": [
       "1    1783\n",
       "0    1450\n",
       "Name: newlable, dtype: int64"
      ]
     },
     "execution_count": 115,
     "metadata": {},
     "output_type": "execute_result"
    }
   ],
   "source": [
    "data['newlable'].value_counts()"
   ]
  },
  {
   "cell_type": "code",
   "execution_count": 117,
   "id": "fd9cd830",
   "metadata": {},
   "outputs": [],
   "source": [
    "# Male --> 1, Female --> 0"
   ]
  },
  {
   "cell_type": "code",
   "execution_count": 118,
   "id": "6d40421d",
   "metadata": {},
   "outputs": [
    {
     "data": {
      "text/html": [
       "<div>\n",
       "<style scoped>\n",
       "    .dataframe tbody tr th:only-of-type {\n",
       "        vertical-align: middle;\n",
       "    }\n",
       "\n",
       "    .dataframe tbody tr th {\n",
       "        vertical-align: top;\n",
       "    }\n",
       "\n",
       "    .dataframe thead th {\n",
       "        text-align: right;\n",
       "    }\n",
       "</style>\n",
       "<table border=\"1\" class=\"dataframe\">\n",
       "  <thead>\n",
       "    <tr style=\"text-align: right;\">\n",
       "      <th></th>\n",
       "      <th>long_hair</th>\n",
       "      <th>forehead_width_cm</th>\n",
       "      <th>forehead_height_cm</th>\n",
       "      <th>nose_wide</th>\n",
       "      <th>nose_long</th>\n",
       "      <th>lips_thin</th>\n",
       "      <th>distance_nose_to_lip_long</th>\n",
       "      <th>gender</th>\n",
       "      <th>newlable</th>\n",
       "    </tr>\n",
       "  </thead>\n",
       "  <tbody>\n",
       "    <tr>\n",
       "      <th>0</th>\n",
       "      <td>1</td>\n",
       "      <td>11.8</td>\n",
       "      <td>6.1</td>\n",
       "      <td>1</td>\n",
       "      <td>0</td>\n",
       "      <td>1</td>\n",
       "      <td>1</td>\n",
       "      <td>Male</td>\n",
       "      <td>1</td>\n",
       "    </tr>\n",
       "    <tr>\n",
       "      <th>1</th>\n",
       "      <td>0</td>\n",
       "      <td>14.0</td>\n",
       "      <td>5.4</td>\n",
       "      <td>0</td>\n",
       "      <td>0</td>\n",
       "      <td>1</td>\n",
       "      <td>0</td>\n",
       "      <td>Female</td>\n",
       "      <td>0</td>\n",
       "    </tr>\n",
       "    <tr>\n",
       "      <th>2</th>\n",
       "      <td>0</td>\n",
       "      <td>11.8</td>\n",
       "      <td>6.3</td>\n",
       "      <td>1</td>\n",
       "      <td>1</td>\n",
       "      <td>1</td>\n",
       "      <td>1</td>\n",
       "      <td>Male</td>\n",
       "      <td>1</td>\n",
       "    </tr>\n",
       "    <tr>\n",
       "      <th>3</th>\n",
       "      <td>0</td>\n",
       "      <td>14.4</td>\n",
       "      <td>6.1</td>\n",
       "      <td>0</td>\n",
       "      <td>1</td>\n",
       "      <td>1</td>\n",
       "      <td>1</td>\n",
       "      <td>Male</td>\n",
       "      <td>1</td>\n",
       "    </tr>\n",
       "    <tr>\n",
       "      <th>4</th>\n",
       "      <td>1</td>\n",
       "      <td>13.5</td>\n",
       "      <td>5.9</td>\n",
       "      <td>0</td>\n",
       "      <td>0</td>\n",
       "      <td>0</td>\n",
       "      <td>0</td>\n",
       "      <td>Female</td>\n",
       "      <td>0</td>\n",
       "    </tr>\n",
       "    <tr>\n",
       "      <th>...</th>\n",
       "      <td>...</td>\n",
       "      <td>...</td>\n",
       "      <td>...</td>\n",
       "      <td>...</td>\n",
       "      <td>...</td>\n",
       "      <td>...</td>\n",
       "      <td>...</td>\n",
       "      <td>...</td>\n",
       "      <td>...</td>\n",
       "    </tr>\n",
       "    <tr>\n",
       "      <th>3228</th>\n",
       "      <td>1</td>\n",
       "      <td>11.7</td>\n",
       "      <td>6.1</td>\n",
       "      <td>1</td>\n",
       "      <td>1</td>\n",
       "      <td>0</td>\n",
       "      <td>1</td>\n",
       "      <td>Male</td>\n",
       "      <td>1</td>\n",
       "    </tr>\n",
       "    <tr>\n",
       "      <th>3229</th>\n",
       "      <td>1</td>\n",
       "      <td>12.6</td>\n",
       "      <td>5.7</td>\n",
       "      <td>0</td>\n",
       "      <td>0</td>\n",
       "      <td>1</td>\n",
       "      <td>0</td>\n",
       "      <td>Female</td>\n",
       "      <td>0</td>\n",
       "    </tr>\n",
       "    <tr>\n",
       "      <th>3230</th>\n",
       "      <td>1</td>\n",
       "      <td>14.1</td>\n",
       "      <td>7.0</td>\n",
       "      <td>1</td>\n",
       "      <td>1</td>\n",
       "      <td>1</td>\n",
       "      <td>1</td>\n",
       "      <td>Male</td>\n",
       "      <td>1</td>\n",
       "    </tr>\n",
       "    <tr>\n",
       "      <th>3231</th>\n",
       "      <td>1</td>\n",
       "      <td>11.6</td>\n",
       "      <td>5.9</td>\n",
       "      <td>0</td>\n",
       "      <td>0</td>\n",
       "      <td>0</td>\n",
       "      <td>1</td>\n",
       "      <td>Female</td>\n",
       "      <td>0</td>\n",
       "    </tr>\n",
       "    <tr>\n",
       "      <th>3232</th>\n",
       "      <td>1</td>\n",
       "      <td>12.3</td>\n",
       "      <td>6.9</td>\n",
       "      <td>0</td>\n",
       "      <td>1</td>\n",
       "      <td>1</td>\n",
       "      <td>1</td>\n",
       "      <td>Male</td>\n",
       "      <td>1</td>\n",
       "    </tr>\n",
       "  </tbody>\n",
       "</table>\n",
       "<p>3233 rows × 9 columns</p>\n",
       "</div>"
      ],
      "text/plain": [
       "     long_hair  forehead_width_cm  forehead_height_cm nose_wide nose_long  \\\n",
       "0            1               11.8                 6.1         1         0   \n",
       "1            0               14.0                 5.4         0         0   \n",
       "2            0               11.8                 6.3         1         1   \n",
       "3            0               14.4                 6.1         0         1   \n",
       "4            1               13.5                 5.9         0         0   \n",
       "...        ...                ...                 ...       ...       ...   \n",
       "3228         1               11.7                 6.1         1         1   \n",
       "3229         1               12.6                 5.7         0         0   \n",
       "3230         1               14.1                 7.0         1         1   \n",
       "3231         1               11.6                 5.9         0         0   \n",
       "3232         1               12.3                 6.9         0         1   \n",
       "\n",
       "     lips_thin distance_nose_to_lip_long  gender  newlable  \n",
       "0            1                         1    Male         1  \n",
       "1            1                         0  Female         0  \n",
       "2            1                         1    Male         1  \n",
       "3            1                         1    Male         1  \n",
       "4            0                         0  Female         0  \n",
       "...        ...                       ...     ...       ...  \n",
       "3228         0                         1    Male         1  \n",
       "3229         1                         0  Female         0  \n",
       "3230         1                         1    Male         1  \n",
       "3231         0                         1  Female         0  \n",
       "3232         1                         1    Male         1  \n",
       "\n",
       "[3233 rows x 9 columns]"
      ]
     },
     "execution_count": 118,
     "metadata": {},
     "output_type": "execute_result"
    }
   ],
   "source": [
    "data['newlable']=newlable\n",
    "data"
   ]
  },
  {
   "cell_type": "code",
   "execution_count": 119,
   "id": "8ac8a490",
   "metadata": {},
   "outputs": [],
   "source": [
    "c_l=data['newlable']"
   ]
  },
  {
   "cell_type": "code",
   "execution_count": 120,
   "id": "fa579fb4",
   "metadata": {},
   "outputs": [],
   "source": [
    "# Splitting into train and test\n",
    "\n",
    "from sklearn.model_selection import train_test_split"
   ]
  },
  {
   "cell_type": "code",
   "execution_count": 121,
   "id": "99b7065b",
   "metadata": {},
   "outputs": [],
   "source": [
    "x_train,x_test,y_train,y_test=train_test_split(f_v,c_l,train_size=0.8,stratify=c_l,random_state=1)"
   ]
  },
  {
   "cell_type": "code",
   "execution_count": 122,
   "id": "954860e5",
   "metadata": {},
   "outputs": [],
   "source": [
    "from sklearn.preprocessing import StandardScaler"
   ]
  },
  {
   "cell_type": "code",
   "execution_count": 123,
   "id": "d4bb5d96",
   "metadata": {},
   "outputs": [],
   "source": [
    "std = StandardScaler()\n",
    "transfromed_xtrain= std.fit_transform(x_train)\n",
    "transfromed_xtest = std.transform(x_test)"
   ]
  },
  {
   "cell_type": "code",
   "execution_count": 124,
   "id": "9f71df45",
   "metadata": {},
   "outputs": [],
   "source": [
    "# Applying KNN to the data set with some random k value"
   ]
  },
  {
   "cell_type": "code",
   "execution_count": 125,
   "id": "f644751d",
   "metadata": {},
   "outputs": [],
   "source": [
    "from sklearn.neighbors import KNeighborsClassifier\n",
    "from sklearn.metrics import accuracy_score"
   ]
  },
  {
   "cell_type": "code",
   "execution_count": 126,
   "id": "ee9ba15e",
   "metadata": {},
   "outputs": [
    {
     "data": {
      "text/plain": [
       "0.9629057187017002"
      ]
     },
     "execution_count": 126,
     "metadata": {},
     "output_type": "execute_result"
    }
   ],
   "source": [
    "knn=KNeighborsClassifier(n_neighbors=400) \n",
    "model=knn.fit(transfromed_xtrain,y_train)\n",
    "y_predict=model.predict(transfromed_xtest)\n",
    "accuracy_score(y_test,y_predict)"
   ]
  },
  {
   "cell_type": "code",
   "execution_count": 127,
   "id": "40a7cb8a",
   "metadata": {},
   "outputs": [
    {
     "data": {
      "text/plain": [
       "0.9598145285935085"
      ]
     },
     "execution_count": 127,
     "metadata": {},
     "output_type": "execute_result"
    }
   ],
   "source": [
    "knn=KNeighborsClassifier(n_neighbors=450) \n",
    "model=knn.fit(transfromed_xtrain,y_train)\n",
    "y_predict=model.predict(transfromed_xtest)\n",
    "accuracy_score(y_test,y_predict)"
   ]
  },
  {
   "cell_type": "code",
   "execution_count": 128,
   "id": "8e95ec94",
   "metadata": {},
   "outputs": [
    {
     "data": {
      "text/plain": [
       "0.9582689335394127"
      ]
     },
     "execution_count": 128,
     "metadata": {},
     "output_type": "execute_result"
    }
   ],
   "source": [
    "knn=KNeighborsClassifier(n_neighbors=500) \n",
    "model=knn.fit(transfromed_xtrain,y_train)\n",
    "y_predict=model.predict(transfromed_xtest)\n",
    "accuracy_score(y_test,y_predict)"
   ]
  },
  {
   "cell_type": "code",
   "execution_count": 129,
   "id": "22c420c3",
   "metadata": {},
   "outputs": [
    {
     "name": "stdout",
     "output_type": "stream",
     "text": [
      "The accuracy for given k 1 is 93.66306027820711\n",
      "The accuracy for given k 3 is 94.89953632148377\n",
      "The accuracy for given k 5 is 94.74497681607419\n",
      "The accuracy for given k 7 is 94.5904173106646\n",
      "The accuracy for given k 9 is 94.74497681607419\n",
      "The accuracy for given k 11 is 94.28129829984545\n",
      "The accuracy for given k 13 is 93.97217928902627\n"
     ]
    }
   ],
   "source": [
    "def acc(k):\n",
    "    for i in range(k):\n",
    "        if i%2!=0:\n",
    "            knn=KNeighborsClassifier(n_neighbors=i)\n",
    "            model=knn.fit(transfromed_xtrain,y_train) \n",
    "            y_predict=model.predict(transfromed_xtest)\n",
    "            print('The accuracy for given k {} is'.format(i),accuracy_score(y_test,y_predict)*100)\n",
    "        else:pass\n",
    "acc(15)"
   ]
  },
  {
   "cell_type": "code",
   "execution_count": 130,
   "id": "74a309b9",
   "metadata": {},
   "outputs": [
    {
     "name": "stdout",
     "output_type": "stream",
     "text": [
      "the accuracy for given k 2001 is 0.9412673879443586\n"
     ]
    }
   ],
   "source": [
    "def acc(k):\n",
    "    if k%2!=0:\n",
    "        knn=KNeighborsClassifier(n_neighbors=k)\n",
    "        model=knn.fit(transfromed_xtrain,y_train) \n",
    "        y_predict=model.predict(transfromed_xtest)\n",
    "        print('the accuracy for given k {} is'.format(k),accuracy_score(y_test,y_predict))\n",
    "    else: print('enter odd value')\n",
    "acc(2001)"
   ]
  },
  {
   "cell_type": "code",
   "execution_count": 131,
   "id": "675b3c1c",
   "metadata": {},
   "outputs": [
    {
     "data": {
      "text/plain": [
       "array([1])"
      ]
     },
     "execution_count": 131,
     "metadata": {},
     "output_type": "execute_result"
    }
   ],
   "source": [
    "model.predict([[0,0.14,0.5,0,0,1,0]])"
   ]
  },
  {
   "cell_type": "code",
   "execution_count": 132,
   "id": "32054419",
   "metadata": {},
   "outputs": [],
   "source": [
    "# Finding the best k using Cross Validation Technique"
   ]
  },
  {
   "cell_type": "code",
   "execution_count": 133,
   "id": "4b29fdac",
   "metadata": {},
   "outputs": [],
   "source": [
    "# Lets now perform the Standerdization"
   ]
  },
  {
   "cell_type": "code",
   "execution_count": 134,
   "id": "2d330079",
   "metadata": {},
   "outputs": [],
   "source": [
    "from sklearn.model_selection import train_test_split\n",
    "from sklearn.neighbors import KNeighborsClassifier\n",
    "from sklearn.naive_bayes import GaussianNB"
   ]
  },
  {
   "cell_type": "code",
   "execution_count": 135,
   "id": "9698a920",
   "metadata": {},
   "outputs": [],
   "source": [
    "x_train,x_test,y_train,y_test=train_test_split(f_v,c_l,train_size=0.8,stratify=c_l,random_state=1)\n",
    "x_train_cv,x_cv,y_train_cv,y_cv=train_test_split(x_train,y_train,train_size=0.8,random_state=1)"
   ]
  },
  {
   "cell_type": "code",
   "execution_count": 136,
   "id": "b416fc19",
   "metadata": {},
   "outputs": [],
   "source": [
    "from sklearn.preprocessing import StandardScaler"
   ]
  },
  {
   "cell_type": "code",
   "execution_count": 137,
   "id": "aa05e3a0",
   "metadata": {},
   "outputs": [],
   "source": [
    "std = StandardScaler()\n",
    "transfromed_train = std.fit_transform(x_train_cv)\n",
    "transfromed_cv = std.transform(x_cv)\n",
    "transfromed_test = std.transform(x_test)"
   ]
  },
  {
   "cell_type": "code",
   "execution_count": 138,
   "id": "842b2349",
   "metadata": {},
   "outputs": [],
   "source": [
    "from sklearn.metrics import accuracy_score"
   ]
  },
  {
   "cell_type": "code",
   "execution_count": 139,
   "id": "dcb88728",
   "metadata": {},
   "outputs": [],
   "source": [
    "train_error = []\n",
    "def func1(k):\n",
    "    for i in range(1,k,2):\n",
    "        knn = KNeighborsClassifier(n_neighbors=i)\n",
    "        model = knn.fit(transfromed_train,y_train_cv)\n",
    "        y_predicted = model.predict(transfromed_train)\n",
    "        acu = accuracy_score(y_train_cv,y_predicted)\n",
    "        train_error.append(1-acu)\n",
    "func1(100)"
   ]
  },
  {
   "cell_type": "code",
   "execution_count": 140,
   "id": "8ac72489",
   "metadata": {},
   "outputs": [],
   "source": [
    "cv_error = []\n",
    "k_value = []\n",
    "def func2(k):\n",
    "    for i in range(1,k,2):\n",
    "        knn = KNeighborsClassifier(n_neighbors=i)\n",
    "        model = knn.fit(transfromed_train,y_train_cv)\n",
    "        y_predicted = model.predict(transfromed_cv)\n",
    "        acu = accuracy_score(y_cv,y_predicted)\n",
    "        k_value.append(i)\n",
    "        cv_error.append(1-acu)\n",
    "func2(100)"
   ]
  },
  {
   "cell_type": "code",
   "execution_count": 141,
   "id": "8e94e9d1",
   "metadata": {},
   "outputs": [
    {
     "data": {
      "image/png": "[encoded data removed]",
      "text/plain": [
       "<Figure size 1296x1296 with 1 Axes>"
      ]
     },
     "metadata": {
      "needs_background": "light"
     },
     "output_type": "display_data"
    }
   ],
   "source": [
    "plt.figure(figsize=(18,18))\n",
    "plt.plot(k_value,train_error,label='train_error')\n",
    "plt.xticks(k_value)\n",
    "plt.plot(k_value,cv_error,label='cv_error')\n",
    "plt.xticks(k_value)\n",
    "plt.legend()\n",
    "plt.show()"
   ]
  },
  {
   "cell_type": "code",
   "execution_count": 142,
   "id": "3073c4e5",
   "metadata": {},
   "outputs": [
    {
     "data": {
      "text/plain": [
       "0.955177743431221"
      ]
     },
     "execution_count": 142,
     "metadata": {},
     "output_type": "execute_result"
    }
   ],
   "source": [
    "knn = KNeighborsClassifier(n_neighbors=41)\n",
    "model = knn.fit(transfromed_train,y_train_cv)\n",
    "y_predicted = model.predict(transfromed_test)\n",
    "acu = accuracy_score(y_test,y_predicted)\n",
    "acu"
   ]
  },
  {
   "cell_type": "code",
   "execution_count": 143,
   "id": "3a05889d",
   "metadata": {},
   "outputs": [
    {
     "data": {
      "text/plain": [
       "0.04482225656877903"
      ]
     },
     "execution_count": 143,
     "metadata": {},
     "output_type": "execute_result"
    }
   ],
   "source": [
    "error=1-acu\n",
    "error"
   ]
  },
  {
   "cell_type": "code",
   "execution_count": 144,
   "id": "9d507f40",
   "metadata": {},
   "outputs": [
    {
     "data": {
      "text/plain": [
       "array([1])"
      ]
     },
     "execution_count": 144,
     "metadata": {},
     "output_type": "execute_result"
    }
   ],
   "source": [
    "model.predict([[0,0.14,0.5,0,0,1,0]])"
   ]
  },
  {
   "cell_type": "code",
   "execution_count": 145,
   "id": "026e1a67",
   "metadata": {},
   "outputs": [],
   "source": [
    "# finding the best k using k- fold cross validation"
   ]
  },
  {
   "cell_type": "code",
   "execution_count": 146,
   "id": "1d674a1f",
   "metadata": {},
   "outputs": [],
   "source": [
    "std = StandardScaler()\n",
    "transfromed_xtrain= std.fit_transform(x_train)\n",
    "transfromed_xtest = std.transform(x_test)"
   ]
  },
  {
   "cell_type": "code",
   "execution_count": 147,
   "id": "712b69db",
   "metadata": {},
   "outputs": [
    {
     "data": {
      "text/plain": [
       "0.9319447659873192"
      ]
     },
     "execution_count": 147,
     "metadata": {},
     "output_type": "execute_result"
    }
   ],
   "source": [
    "from sklearn.model_selection import cross_val_score\n",
    "import numpy as np\n",
    "accuracy=cross_val_score(KNeighborsClassifier(n_neighbors=1),transfromed_xtrain,y_train,cv=5)\n",
    "finalaccuracy=np.mean(accuracy)\n",
    "finalaccuracy"
   ]
  },
  {
   "cell_type": "code",
   "execution_count": 148,
   "id": "36b318c0",
   "metadata": {},
   "outputs": [
    {
     "name": "stdout",
     "output_type": "stream",
     "text": [
      "for the given value of k=1 the accuracy is 0.9319447659873192 whaen we have 3 fold\n",
      "for the given value of k=3 the accuracy is 0.9443171549554528 whaen we have 3 fold\n",
      "for the given value of k=5 the accuracy is 0.9489555872534595 whaen we have 3 fold\n",
      "for the given value of k=7 the accuracy is 0.950892063658021 whaen we have 3 fold\n",
      "for the given value of k=9 the accuracy is 0.9466359976998275 whaen we have 3 fold\n",
      "for the given value of k=11 the accuracy is 0.9462491505044696 whaen we have 3 fold\n",
      "for the given value of k=13 the accuracy is 0.9470228448951852 whaen we have 3 fold\n",
      "for the given value of k=15 the accuracy is 0.9489563340627172 whaen we have 3 fold\n",
      "for the given value of k=17 the accuracy is 0.9493446748765898 whaen we have 3 fold\n",
      "for the given value of k=19 the accuracy is 0.9532131468301681 whaen we have 3 fold\n"
     ]
    }
   ],
   "source": [
    "for k in range(1,20,2):\n",
    "    print('for the given value of k={} the accuracy is {} whaen we have 3 fold'.format(k,np.mean(cross_val_score(KNeighborsClassifier(n_neighbors=k),transfromed_xtrain,y_train,cv=5))))"
   ]
  },
  {
   "cell_type": "code",
   "execution_count": 149,
   "id": "2362afba",
   "metadata": {},
   "outputs": [
    {
     "data": {
      "text/plain": [
       "0.9574662255513319"
      ]
     },
     "execution_count": 149,
     "metadata": {},
     "output_type": "execute_result"
    }
   ],
   "source": [
    "np.mean(cross_val_score(KNeighborsClassifier(n_neighbors=300),transfromed_xtrain,y_train,cv=5))"
   ]
  },
  {
   "cell_type": "code",
   "execution_count": 150,
   "id": "e06410fa",
   "metadata": {},
   "outputs": [
    {
     "data": {
      "text/plain": [
       "0.9582376795142752"
      ]
     },
     "execution_count": 150,
     "metadata": {},
     "output_type": "execute_result"
    }
   ],
   "source": [
    "np.mean(cross_val_score(KNeighborsClassifier(n_neighbors=330),transfromed_xtrain,y_train,cv=5))"
   ]
  },
  {
   "cell_type": "code",
   "execution_count": 151,
   "id": "e77cd035",
   "metadata": {},
   "outputs": [
    {
     "data": {
      "text/plain": [
       "0.9574662255513319"
      ]
     },
     "execution_count": 151,
     "metadata": {},
     "output_type": "execute_result"
    }
   ],
   "source": [
    "np.mean(cross_val_score(KNeighborsClassifier(n_neighbors=300),transfromed_xtrain,y_train,cv=5))"
   ]
  },
  {
   "cell_type": "code",
   "execution_count": 152,
   "id": "62e9928e",
   "metadata": {},
   "outputs": [],
   "source": [
    "# according to this the value of k can be 300"
   ]
  },
  {
   "cell_type": "code",
   "execution_count": 153,
   "id": "4fd0e471",
   "metadata": {},
   "outputs": [
    {
     "data": {
      "text/plain": [
       "0.9629057187017002"
      ]
     },
     "execution_count": 153,
     "metadata": {},
     "output_type": "execute_result"
    }
   ],
   "source": [
    "knn = KNeighborsClassifier(n_neighbors=330)\n",
    "model = knn.fit(transfromed_xtrain,y_train)\n",
    "y_predicted = model.predict(transfromed_xtest)\n",
    "acu = accuracy_score(y_test,y_predicted)\n",
    "acu"
   ]
  },
  {
   "cell_type": "code",
   "execution_count": 154,
   "id": "1d6f9d85",
   "metadata": {},
   "outputs": [
    {
     "data": {
      "text/plain": [
       "array([1])"
      ]
     },
     "execution_count": 154,
     "metadata": {},
     "output_type": "execute_result"
    }
   ],
   "source": [
    "model.predict([[0,0.14,0.5,0,0,1,0]])"
   ]
  },
  {
   "cell_type": "code",
   "execution_count": null,
   "id": "7ebc2bc9",
   "metadata": {},
   "outputs": [],
   "source": [
    "# Model predicted is male"
   ]
  },
  {
   "cell_type": "code",
   "execution_count": 167,
   "id": "5517efce",
   "metadata": {},
   "outputs": [],
   "source": [
    "import joblib"
   ]
  },
  {
   "cell_type": "code",
   "execution_count": 169,
   "id": "78700c7f",
   "metadata": {},
   "outputs": [
    {
     "data": {
      "text/plain": [
       "['C:\\\\Users\\\\Gogula Vinay\\\\Desktop\\\\Innomatics labs\\\\Data Science\\\\Machine Learning\\\\Gender Classification dataset\\\\KNN-Gender-Classification.joblib']"
      ]
     },
     "execution_count": 169,
     "metadata": {},
     "output_type": "execute_result"
    }
   ],
   "source": [
    "joblib.dump(model,r'C:\\Users\\Gogula Vinay\\Desktop\\Innomatics labs\\Data Science\\Machine Learning\\Gender Classification dataset\\KNN-Gender-Classification.joblib')"
   ]
  },
  {
   "cell_type": "code",
   "execution_count": null,
   "id": "3325c98e",
   "metadata": {},
   "outputs": [],
   "source": []
  },
  {
   "cell_type": "code",
   "execution_count": null,
   "id": "aba480cf",
   "metadata": {},
   "outputs": [],
   "source": []
  },
  {
   "cell_type": "code",
   "execution_count": null,
   "id": "3d8e833e",
   "metadata": {},
   "outputs": [],
   "source": []
  },
  {
   "cell_type": "code",
   "execution_count": 155,
   "id": "3b5d56a4",
   "metadata": {},
   "outputs": [],
   "source": [
    "# Naive Baise"
   ]
  },
  {
   "cell_type": "code",
   "execution_count": 156,
   "id": "f165452f",
   "metadata": {},
   "outputs": [],
   "source": [
    "from sklearn.naive_bayes import MultinomialNB,GaussianNB,CategoricalNB    "
   ]
  },
  {
   "cell_type": "code",
   "execution_count": 157,
   "id": "b9b97375",
   "metadata": {},
   "outputs": [],
   "source": [
    "gnb=GaussianNB()"
   ]
  },
  {
   "cell_type": "code",
   "execution_count": 158,
   "id": "a141bde5",
   "metadata": {},
   "outputs": [],
   "source": [
    "cnb=gnb.fit(transfromed_xtrain,y_train)"
   ]
  },
  {
   "cell_type": "code",
   "execution_count": 159,
   "id": "98df758d",
   "metadata": {},
   "outputs": [],
   "source": [
    "predicts=model.predict(transfromed_xtest)"
   ]
  },
  {
   "cell_type": "code",
   "execution_count": 160,
   "id": "32f39d2c",
   "metadata": {},
   "outputs": [
    {
     "data": {
      "text/plain": [
       "0.9629057187017002"
      ]
     },
     "execution_count": 160,
     "metadata": {},
     "output_type": "execute_result"
    }
   ],
   "source": [
    "accuracy_score(y_test,predicts)"
   ]
  },
  {
   "cell_type": "code",
   "execution_count": null,
   "id": "6941f05b",
   "metadata": {},
   "outputs": [],
   "source": []
  },
  {
   "cell_type": "code",
   "execution_count": 161,
   "id": "38f6809e",
   "metadata": {},
   "outputs": [],
   "source": [
    "# Logistic regresssion"
   ]
  },
  {
   "cell_type": "code",
   "execution_count": 162,
   "id": "8f930874",
   "metadata": {},
   "outputs": [],
   "source": [
    "from sklearn.model_selection import GridSearchCV # TO FIND THE BEST LAMBDA (C=1/LAMBDA)\n",
    "from sklearn.linear_model import LogisticRegression"
   ]
  },
  {
   "cell_type": "code",
   "execution_count": 163,
   "id": "9f1b9628",
   "metadata": {},
   "outputs": [
    {
     "name": "stdout",
     "output_type": "stream",
     "text": [
      "LogisticRegression(C=0.01)\n"
     ]
    },
    {
     "data": {
      "text/plain": [
       "0.9474497681607419"
      ]
     },
     "execution_count": 163,
     "metadata": {},
     "output_type": "execute_result"
    }
   ],
   "source": [
    "tuned_parameters = [{'C': [10**-4, 10**-2, 10**2, 10**4]}]\n",
    "model = GridSearchCV(LogisticRegression(), tuned_parameters, scoring =\"accuracy\",cv=5)\n",
    "final_model=model.fit(transfromed_xtrain, y_train)\n",
    "print(model.best_estimator_)\n",
    "pr=model.predict(transfromed_xtest)\n",
    "accuracy_score(y_test,pr)"
   ]
  },
  {
   "cell_type": "code",
   "execution_count": 164,
   "id": "09e74b0e",
   "metadata": {},
   "outputs": [
    {
     "data": {
      "text/plain": [
       "array([[-0.04400934,  0.33941074,  0.29892312,  0.95909566,  0.89331834,\n",
       "         0.85941429,  0.89727505]])"
      ]
     },
     "execution_count": 164,
     "metadata": {},
     "output_type": "execute_result"
    }
   ],
   "source": [
    "m=LogisticRegression(C=0.01)\n",
    "m.fit(transfromed_xtrain,y_train)\n",
    "m.coef_"
   ]
  },
  {
   "cell_type": "code",
   "execution_count": 165,
   "id": "016c8b13",
   "metadata": {},
   "outputs": [
    {
     "data": {
      "text/html": [
       "<div>\n",
       "<style scoped>\n",
       "    .dataframe tbody tr th:only-of-type {\n",
       "        vertical-align: middle;\n",
       "    }\n",
       "\n",
       "    .dataframe tbody tr th {\n",
       "        vertical-align: top;\n",
       "    }\n",
       "\n",
       "    .dataframe thead th {\n",
       "        text-align: right;\n",
       "    }\n",
       "</style>\n",
       "<table border=\"1\" class=\"dataframe\">\n",
       "  <thead>\n",
       "    <tr style=\"text-align: right;\">\n",
       "      <th></th>\n",
       "      <th>long_hair</th>\n",
       "      <th>forehead_width_cm</th>\n",
       "      <th>forehead_height_cm</th>\n",
       "      <th>nose_wide</th>\n",
       "      <th>nose_long</th>\n",
       "      <th>lips_thin</th>\n",
       "      <th>distance_nose_to_lip_long</th>\n",
       "      <th>gender</th>\n",
       "      <th>newlable</th>\n",
       "    </tr>\n",
       "  </thead>\n",
       "  <tbody>\n",
       "    <tr>\n",
       "      <th>0</th>\n",
       "      <td>1</td>\n",
       "      <td>11.8</td>\n",
       "      <td>6.1</td>\n",
       "      <td>1</td>\n",
       "      <td>0</td>\n",
       "      <td>1</td>\n",
       "      <td>1</td>\n",
       "      <td>Male</td>\n",
       "      <td>1</td>\n",
       "    </tr>\n",
       "    <tr>\n",
       "      <th>1</th>\n",
       "      <td>0</td>\n",
       "      <td>14.0</td>\n",
       "      <td>5.4</td>\n",
       "      <td>0</td>\n",
       "      <td>0</td>\n",
       "      <td>1</td>\n",
       "      <td>0</td>\n",
       "      <td>Female</td>\n",
       "      <td>0</td>\n",
       "    </tr>\n",
       "    <tr>\n",
       "      <th>2</th>\n",
       "      <td>0</td>\n",
       "      <td>11.8</td>\n",
       "      <td>6.3</td>\n",
       "      <td>1</td>\n",
       "      <td>1</td>\n",
       "      <td>1</td>\n",
       "      <td>1</td>\n",
       "      <td>Male</td>\n",
       "      <td>1</td>\n",
       "    </tr>\n",
       "    <tr>\n",
       "      <th>3</th>\n",
       "      <td>0</td>\n",
       "      <td>14.4</td>\n",
       "      <td>6.1</td>\n",
       "      <td>0</td>\n",
       "      <td>1</td>\n",
       "      <td>1</td>\n",
       "      <td>1</td>\n",
       "      <td>Male</td>\n",
       "      <td>1</td>\n",
       "    </tr>\n",
       "    <tr>\n",
       "      <th>4</th>\n",
       "      <td>1</td>\n",
       "      <td>13.5</td>\n",
       "      <td>5.9</td>\n",
       "      <td>0</td>\n",
       "      <td>0</td>\n",
       "      <td>0</td>\n",
       "      <td>0</td>\n",
       "      <td>Female</td>\n",
       "      <td>0</td>\n",
       "    </tr>\n",
       "    <tr>\n",
       "      <th>...</th>\n",
       "      <td>...</td>\n",
       "      <td>...</td>\n",
       "      <td>...</td>\n",
       "      <td>...</td>\n",
       "      <td>...</td>\n",
       "      <td>...</td>\n",
       "      <td>...</td>\n",
       "      <td>...</td>\n",
       "      <td>...</td>\n",
       "    </tr>\n",
       "    <tr>\n",
       "      <th>3228</th>\n",
       "      <td>1</td>\n",
       "      <td>11.7</td>\n",
       "      <td>6.1</td>\n",
       "      <td>1</td>\n",
       "      <td>1</td>\n",
       "      <td>0</td>\n",
       "      <td>1</td>\n",
       "      <td>Male</td>\n",
       "      <td>1</td>\n",
       "    </tr>\n",
       "    <tr>\n",
       "      <th>3229</th>\n",
       "      <td>1</td>\n",
       "      <td>12.6</td>\n",
       "      <td>5.7</td>\n",
       "      <td>0</td>\n",
       "      <td>0</td>\n",
       "      <td>1</td>\n",
       "      <td>0</td>\n",
       "      <td>Female</td>\n",
       "      <td>0</td>\n",
       "    </tr>\n",
       "    <tr>\n",
       "      <th>3230</th>\n",
       "      <td>1</td>\n",
       "      <td>14.1</td>\n",
       "      <td>7.0</td>\n",
       "      <td>1</td>\n",
       "      <td>1</td>\n",
       "      <td>1</td>\n",
       "      <td>1</td>\n",
       "      <td>Male</td>\n",
       "      <td>1</td>\n",
       "    </tr>\n",
       "    <tr>\n",
       "      <th>3231</th>\n",
       "      <td>1</td>\n",
       "      <td>11.6</td>\n",
       "      <td>5.9</td>\n",
       "      <td>0</td>\n",
       "      <td>0</td>\n",
       "      <td>0</td>\n",
       "      <td>1</td>\n",
       "      <td>Female</td>\n",
       "      <td>0</td>\n",
       "    </tr>\n",
       "    <tr>\n",
       "      <th>3232</th>\n",
       "      <td>1</td>\n",
       "      <td>12.3</td>\n",
       "      <td>6.9</td>\n",
       "      <td>0</td>\n",
       "      <td>1</td>\n",
       "      <td>1</td>\n",
       "      <td>1</td>\n",
       "      <td>Male</td>\n",
       "      <td>1</td>\n",
       "    </tr>\n",
       "  </tbody>\n",
       "</table>\n",
       "<p>3233 rows × 9 columns</p>\n",
       "</div>"
      ],
      "text/plain": [
       "     long_hair  forehead_width_cm  forehead_height_cm nose_wide nose_long  \\\n",
       "0            1               11.8                 6.1         1         0   \n",
       "1            0               14.0                 5.4         0         0   \n",
       "2            0               11.8                 6.3         1         1   \n",
       "3            0               14.4                 6.1         0         1   \n",
       "4            1               13.5                 5.9         0         0   \n",
       "...        ...                ...                 ...       ...       ...   \n",
       "3228         1               11.7                 6.1         1         1   \n",
       "3229         1               12.6                 5.7         0         0   \n",
       "3230         1               14.1                 7.0         1         1   \n",
       "3231         1               11.6                 5.9         0         0   \n",
       "3232         1               12.3                 6.9         0         1   \n",
       "\n",
       "     lips_thin distance_nose_to_lip_long  gender  newlable  \n",
       "0            1                         1    Male         1  \n",
       "1            1                         0  Female         0  \n",
       "2            1                         1    Male         1  \n",
       "3            1                         1    Male         1  \n",
       "4            0                         0  Female         0  \n",
       "...        ...                       ...     ...       ...  \n",
       "3228         0                         1    Male         1  \n",
       "3229         1                         0  Female         0  \n",
       "3230         1                         1    Male         1  \n",
       "3231         0                         1  Female         0  \n",
       "3232         1                         1    Male         1  \n",
       "\n",
       "[3233 rows x 9 columns]"
      ]
     },
     "execution_count": 165,
     "metadata": {},
     "output_type": "execute_result"
    }
   ],
   "source": [
    "data"
   ]
  },
  {
   "cell_type": "code",
   "execution_count": 166,
   "id": "d0b9c684",
   "metadata": {},
   "outputs": [],
   "source": [
    "# nose_wide is impacting"
   ]
  },
  {
   "cell_type": "code",
   "execution_count": null,
   "id": "ff1c5550",
   "metadata": {},
   "outputs": [],
   "source": []
  },
  {
   "cell_type": "code",
   "execution_count": null,
   "id": "2c1794e4",
   "metadata": {},
   "outputs": [],
   "source": []
  }
 ],
 "metadata": {
  "kernelspec": {
   "display_name": "Python 3 (ipykernel)",
   "language": "python",
   "name": "python3"
  },
  "language_info": {
   "codemirror_mode": {
    "name": "ipython",
    "version": 3
   },
   "file_extension": ".py",
   "mimetype": "text/x-python",
   "name": "python",
   "nbconvert_exporter": "python",
   "pygments_lexer": "ipython3",
   "version": "3.9.12"
  }
 },
 "nbformat": 4,
 "nbformat_minor": 5
}
