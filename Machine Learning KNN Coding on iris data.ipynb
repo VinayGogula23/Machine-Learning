{
 "cells": [
  {
   "cell_type": "code",
   "execution_count": 1,
   "id": "a8c00570",
   "metadata": {},
   "outputs": [],
   "source": [
    "import numpy as np\n",
    "import pandas as pd\n",
    "import matplotlib.pyplot as plt\n",
    "from sklearn.preprocessing import LabelEncoder\n",
    "from sklearn.model_selection import train_test_split\n",
    "import warnings \n",
    "warnings.filterwarnings('ignore')"
   ]
  },
  {
   "cell_type": "code",
   "execution_count": 2,
   "id": "ae1a69f7",
   "metadata": {},
   "outputs": [],
   "source": [
    "data=pd.read_csv(r\"C:\\Users\\Gogula Vinay\\Desktop\\Innomatics labs\\Data Science\\Pandas Class notes by vinay\\iris.csv\",names=['sepalLengthCm','sepalWidthCm','petalLengthCm','petalWidthCm','species'])"
   ]
  },
  {
   "cell_type": "code",
   "execution_count": 3,
   "id": "78aec7b1",
   "metadata": {},
   "outputs": [
    {
     "data": {
      "text/html": [
       "<div>\n",
       "<style scoped>\n",
       "    .dataframe tbody tr th:only-of-type {\n",
       "        vertical-align: middle;\n",
       "    }\n",
       "\n",
       "    .dataframe tbody tr th {\n",
       "        vertical-align: top;\n",
       "    }\n",
       "\n",
       "    .dataframe thead th {\n",
       "        text-align: right;\n",
       "    }\n",
       "</style>\n",
       "<table border=\"1\" class=\"dataframe\">\n",
       "  <thead>\n",
       "    <tr style=\"text-align: right;\">\n",
       "      <th></th>\n",
       "      <th>sepalLengthCm</th>\n",
       "      <th>sepalWidthCm</th>\n",
       "      <th>petalLengthCm</th>\n",
       "      <th>petalWidthCm</th>\n",
       "      <th>species</th>\n",
       "    </tr>\n",
       "  </thead>\n",
       "  <tbody>\n",
       "    <tr>\n",
       "      <th>0</th>\n",
       "      <td>5.1</td>\n",
       "      <td>3.5</td>\n",
       "      <td>1.4</td>\n",
       "      <td>0.2</td>\n",
       "      <td>Iris-setosa</td>\n",
       "    </tr>\n",
       "    <tr>\n",
       "      <th>1</th>\n",
       "      <td>4.9</td>\n",
       "      <td>3.0</td>\n",
       "      <td>1.4</td>\n",
       "      <td>0.2</td>\n",
       "      <td>Iris-setosa</td>\n",
       "    </tr>\n",
       "    <tr>\n",
       "      <th>2</th>\n",
       "      <td>4.7</td>\n",
       "      <td>3.2</td>\n",
       "      <td>1.3</td>\n",
       "      <td>0.2</td>\n",
       "      <td>Iris-setosa</td>\n",
       "    </tr>\n",
       "    <tr>\n",
       "      <th>3</th>\n",
       "      <td>4.6</td>\n",
       "      <td>3.1</td>\n",
       "      <td>1.5</td>\n",
       "      <td>0.2</td>\n",
       "      <td>Iris-setosa</td>\n",
       "    </tr>\n",
       "    <tr>\n",
       "      <th>4</th>\n",
       "      <td>5.0</td>\n",
       "      <td>3.6</td>\n",
       "      <td>1.4</td>\n",
       "      <td>0.2</td>\n",
       "      <td>Iris-setosa</td>\n",
       "    </tr>\n",
       "    <tr>\n",
       "      <th>...</th>\n",
       "      <td>...</td>\n",
       "      <td>...</td>\n",
       "      <td>...</td>\n",
       "      <td>...</td>\n",
       "      <td>...</td>\n",
       "    </tr>\n",
       "    <tr>\n",
       "      <th>145</th>\n",
       "      <td>6.7</td>\n",
       "      <td>3.0</td>\n",
       "      <td>5.2</td>\n",
       "      <td>2.3</td>\n",
       "      <td>Iris-virginica</td>\n",
       "    </tr>\n",
       "    <tr>\n",
       "      <th>146</th>\n",
       "      <td>6.3</td>\n",
       "      <td>2.5</td>\n",
       "      <td>5.0</td>\n",
       "      <td>1.9</td>\n",
       "      <td>Iris-virginica</td>\n",
       "    </tr>\n",
       "    <tr>\n",
       "      <th>147</th>\n",
       "      <td>6.5</td>\n",
       "      <td>3.0</td>\n",
       "      <td>5.2</td>\n",
       "      <td>2.0</td>\n",
       "      <td>Iris-virginica</td>\n",
       "    </tr>\n",
       "    <tr>\n",
       "      <th>148</th>\n",
       "      <td>6.2</td>\n",
       "      <td>3.4</td>\n",
       "      <td>5.4</td>\n",
       "      <td>2.3</td>\n",
       "      <td>Iris-virginica</td>\n",
       "    </tr>\n",
       "    <tr>\n",
       "      <th>149</th>\n",
       "      <td>5.9</td>\n",
       "      <td>3.0</td>\n",
       "      <td>5.1</td>\n",
       "      <td>1.8</td>\n",
       "      <td>Iris-virginica</td>\n",
       "    </tr>\n",
       "  </tbody>\n",
       "</table>\n",
       "<p>150 rows × 5 columns</p>\n",
       "</div>"
      ],
      "text/plain": [
       "     sepalLengthCm  sepalWidthCm  petalLengthCm  petalWidthCm         species\n",
       "0              5.1           3.5            1.4           0.2     Iris-setosa\n",
       "1              4.9           3.0            1.4           0.2     Iris-setosa\n",
       "2              4.7           3.2            1.3           0.2     Iris-setosa\n",
       "3              4.6           3.1            1.5           0.2     Iris-setosa\n",
       "4              5.0           3.6            1.4           0.2     Iris-setosa\n",
       "..             ...           ...            ...           ...             ...\n",
       "145            6.7           3.0            5.2           2.3  Iris-virginica\n",
       "146            6.3           2.5            5.0           1.9  Iris-virginica\n",
       "147            6.5           3.0            5.2           2.0  Iris-virginica\n",
       "148            6.2           3.4            5.4           2.3  Iris-virginica\n",
       "149            5.9           3.0            5.1           1.8  Iris-virginica\n",
       "\n",
       "[150 rows x 5 columns]"
      ]
     },
     "execution_count": 3,
     "metadata": {},
     "output_type": "execute_result"
    }
   ],
   "source": [
    "data"
   ]
  },
  {
   "cell_type": "code",
   "execution_count": 4,
   "id": "f4b7b0c4",
   "metadata": {},
   "outputs": [
    {
     "data": {
      "text/plain": [
       "species\n",
       "Iris-setosa        50\n",
       "Iris-versicolor    50\n",
       "Iris-virginica     50\n",
       "dtype: int64"
      ]
     },
     "execution_count": 4,
     "metadata": {},
     "output_type": "execute_result"
    }
   ],
   "source": [
    "data.groupby('species').size() # Balanced dataset"
   ]
  },
  {
   "cell_type": "code",
   "execution_count": 5,
   "id": "606aadb3",
   "metadata": {},
   "outputs": [
    {
     "data": {
      "text/plain": [
       "(150, 5)"
      ]
     },
     "execution_count": 5,
     "metadata": {},
     "output_type": "execute_result"
    }
   ],
   "source": [
    "data.shape"
   ]
  },
  {
   "cell_type": "code",
   "execution_count": 6,
   "id": "925565ed",
   "metadata": {},
   "outputs": [],
   "source": [
    "datac=data.copy()"
   ]
  },
  {
   "cell_type": "code",
   "execution_count": 7,
   "id": "170a9c16",
   "metadata": {},
   "outputs": [
    {
     "data": {
      "text/html": [
       "<div>\n",
       "<style scoped>\n",
       "    .dataframe tbody tr th:only-of-type {\n",
       "        vertical-align: middle;\n",
       "    }\n",
       "\n",
       "    .dataframe tbody tr th {\n",
       "        vertical-align: top;\n",
       "    }\n",
       "\n",
       "    .dataframe thead th {\n",
       "        text-align: right;\n",
       "    }\n",
       "</style>\n",
       "<table border=\"1\" class=\"dataframe\">\n",
       "  <thead>\n",
       "    <tr style=\"text-align: right;\">\n",
       "      <th></th>\n",
       "      <th>sepalLengthCm</th>\n",
       "      <th>sepalWidthCm</th>\n",
       "      <th>petalLengthCm</th>\n",
       "      <th>petalWidthCm</th>\n",
       "      <th>species</th>\n",
       "    </tr>\n",
       "  </thead>\n",
       "  <tbody>\n",
       "    <tr>\n",
       "      <th>0</th>\n",
       "      <td>5.1</td>\n",
       "      <td>3.5</td>\n",
       "      <td>1.4</td>\n",
       "      <td>0.2</td>\n",
       "      <td>Iris-setosa</td>\n",
       "    </tr>\n",
       "    <tr>\n",
       "      <th>1</th>\n",
       "      <td>4.9</td>\n",
       "      <td>3.0</td>\n",
       "      <td>1.4</td>\n",
       "      <td>0.2</td>\n",
       "      <td>Iris-setosa</td>\n",
       "    </tr>\n",
       "  </tbody>\n",
       "</table>\n",
       "</div>"
      ],
      "text/plain": [
       "   sepalLengthCm  sepalWidthCm  petalLengthCm  petalWidthCm      species\n",
       "0            5.1           3.5            1.4           0.2  Iris-setosa\n",
       "1            4.9           3.0            1.4           0.2  Iris-setosa"
      ]
     },
     "execution_count": 7,
     "metadata": {},
     "output_type": "execute_result"
    }
   ],
   "source": [
    "datac.head(2)"
   ]
  },
  {
   "cell_type": "code",
   "execution_count": 8,
   "id": "17841786",
   "metadata": {},
   "outputs": [],
   "source": [
    "fvar=datac.drop(['species'],axis=1)"
   ]
  },
  {
   "cell_type": "code",
   "execution_count": 9,
   "id": "b2976ca6",
   "metadata": {},
   "outputs": [
    {
     "data": {
      "text/html": [
       "<div>\n",
       "<style scoped>\n",
       "    .dataframe tbody tr th:only-of-type {\n",
       "        vertical-align: middle;\n",
       "    }\n",
       "\n",
       "    .dataframe tbody tr th {\n",
       "        vertical-align: top;\n",
       "    }\n",
       "\n",
       "    .dataframe thead th {\n",
       "        text-align: right;\n",
       "    }\n",
       "</style>\n",
       "<table border=\"1\" class=\"dataframe\">\n",
       "  <thead>\n",
       "    <tr style=\"text-align: right;\">\n",
       "      <th></th>\n",
       "      <th>sepalLengthCm</th>\n",
       "      <th>sepalWidthCm</th>\n",
       "      <th>petalLengthCm</th>\n",
       "      <th>petalWidthCm</th>\n",
       "    </tr>\n",
       "  </thead>\n",
       "  <tbody>\n",
       "    <tr>\n",
       "      <th>0</th>\n",
       "      <td>5.1</td>\n",
       "      <td>3.5</td>\n",
       "      <td>1.4</td>\n",
       "      <td>0.2</td>\n",
       "    </tr>\n",
       "    <tr>\n",
       "      <th>1</th>\n",
       "      <td>4.9</td>\n",
       "      <td>3.0</td>\n",
       "      <td>1.4</td>\n",
       "      <td>0.2</td>\n",
       "    </tr>\n",
       "    <tr>\n",
       "      <th>2</th>\n",
       "      <td>4.7</td>\n",
       "      <td>3.2</td>\n",
       "      <td>1.3</td>\n",
       "      <td>0.2</td>\n",
       "    </tr>\n",
       "    <tr>\n",
       "      <th>3</th>\n",
       "      <td>4.6</td>\n",
       "      <td>3.1</td>\n",
       "      <td>1.5</td>\n",
       "      <td>0.2</td>\n",
       "    </tr>\n",
       "    <tr>\n",
       "      <th>4</th>\n",
       "      <td>5.0</td>\n",
       "      <td>3.6</td>\n",
       "      <td>1.4</td>\n",
       "      <td>0.2</td>\n",
       "    </tr>\n",
       "  </tbody>\n",
       "</table>\n",
       "</div>"
      ],
      "text/plain": [
       "   sepalLengthCm  sepalWidthCm  petalLengthCm  petalWidthCm\n",
       "0            5.1           3.5            1.4           0.2\n",
       "1            4.9           3.0            1.4           0.2\n",
       "2            4.7           3.2            1.3           0.2\n",
       "3            4.6           3.1            1.5           0.2\n",
       "4            5.0           3.6            1.4           0.2"
      ]
     },
     "execution_count": 9,
     "metadata": {},
     "output_type": "execute_result"
    }
   ],
   "source": [
    "fvar.head()"
   ]
  },
  {
   "cell_type": "code",
   "execution_count": 10,
   "id": "55972ef3",
   "metadata": {},
   "outputs": [],
   "source": [
    "label=data[['species']]"
   ]
  },
  {
   "cell_type": "code",
   "execution_count": 11,
   "id": "5076dc22",
   "metadata": {},
   "outputs": [
    {
     "data": {
      "text/html": [
       "<div>\n",
       "<style scoped>\n",
       "    .dataframe tbody tr th:only-of-type {\n",
       "        vertical-align: middle;\n",
       "    }\n",
       "\n",
       "    .dataframe tbody tr th {\n",
       "        vertical-align: top;\n",
       "    }\n",
       "\n",
       "    .dataframe thead th {\n",
       "        text-align: right;\n",
       "    }\n",
       "</style>\n",
       "<table border=\"1\" class=\"dataframe\">\n",
       "  <thead>\n",
       "    <tr style=\"text-align: right;\">\n",
       "      <th></th>\n",
       "      <th>species</th>\n",
       "    </tr>\n",
       "  </thead>\n",
       "  <tbody>\n",
       "    <tr>\n",
       "      <th>0</th>\n",
       "      <td>Iris-setosa</td>\n",
       "    </tr>\n",
       "    <tr>\n",
       "      <th>1</th>\n",
       "      <td>Iris-setosa</td>\n",
       "    </tr>\n",
       "    <tr>\n",
       "      <th>2</th>\n",
       "      <td>Iris-setosa</td>\n",
       "    </tr>\n",
       "    <tr>\n",
       "      <th>3</th>\n",
       "      <td>Iris-setosa</td>\n",
       "    </tr>\n",
       "    <tr>\n",
       "      <th>4</th>\n",
       "      <td>Iris-setosa</td>\n",
       "    </tr>\n",
       "  </tbody>\n",
       "</table>\n",
       "</div>"
      ],
      "text/plain": [
       "       species\n",
       "0  Iris-setosa\n",
       "1  Iris-setosa\n",
       "2  Iris-setosa\n",
       "3  Iris-setosa\n",
       "4  Iris-setosa"
      ]
     },
     "execution_count": 11,
     "metadata": {},
     "output_type": "execute_result"
    }
   ],
   "source": [
    "label.head()"
   ]
  },
  {
   "cell_type": "code",
   "execution_count": 12,
   "id": "c343a7e0",
   "metadata": {},
   "outputs": [],
   "source": [
    "lb=LabelEncoder()"
   ]
  },
  {
   "cell_type": "code",
   "execution_count": 13,
   "id": "aff61dd6",
   "metadata": {},
   "outputs": [],
   "source": [
    "label=lb.fit_transform(label['species'])"
   ]
  },
  {
   "cell_type": "code",
   "execution_count": 14,
   "id": "598ccf10",
   "metadata": {},
   "outputs": [
    {
     "data": {
      "text/plain": [
       "0      0\n",
       "1      0\n",
       "2      0\n",
       "3      0\n",
       "4      0\n",
       "      ..\n",
       "145    2\n",
       "146    2\n",
       "147    2\n",
       "148    2\n",
       "149    2\n",
       "Length: 150, dtype: int32"
      ]
     },
     "execution_count": 14,
     "metadata": {},
     "output_type": "execute_result"
    }
   ],
   "source": [
    "pd.Series(label)"
   ]
  },
  {
   "cell_type": "code",
   "execution_count": 15,
   "id": "9de96b9b",
   "metadata": {},
   "outputs": [],
   "source": [
    "from sklearn.model_selection import train_test_split"
   ]
  },
  {
   "cell_type": "code",
   "execution_count": 16,
   "id": "a6597260",
   "metadata": {},
   "outputs": [],
   "source": [
    "x_train,x_test,y_train,y_test=train_test_split(fvar,label,train_size=0.8)"
   ]
  },
  {
   "cell_type": "code",
   "execution_count": 17,
   "id": "de2c3a3a",
   "metadata": {},
   "outputs": [
    {
     "data": {
      "text/plain": [
       "(105, 4)"
      ]
     },
     "execution_count": 17,
     "metadata": {},
     "output_type": "execute_result"
    }
   ],
   "source": [
    "x_train.shape   # it pics randomly"
   ]
  },
  {
   "cell_type": "code",
   "execution_count": 18,
   "id": "ab67fdf4",
   "metadata": {},
   "outputs": [
    {
     "data": {
      "text/plain": [
       "(105,)"
      ]
     },
     "execution_count": 18,
     "metadata": {},
     "output_type": "execute_result"
    }
   ],
   "source": [
    "y_train.shape"
   ]
  },
  {
   "cell_type": "code",
   "execution_count": 19,
   "id": "c2eac0bb",
   "metadata": {},
   "outputs": [
    {
     "data": {
      "text/plain": [
       "(45, 4)"
      ]
     },
     "execution_count": 19,
     "metadata": {},
     "output_type": "execute_result"
    }
   ],
   "source": [
    "x_test.shape"
   ]
  },
  {
   "cell_type": "code",
   "execution_count": 20,
   "id": "01f39098",
   "metadata": {},
   "outputs": [
    {
     "data": {
      "text/plain": [
       "(45,)"
      ]
     },
     "execution_count": 20,
     "metadata": {},
     "output_type": "execute_result"
    }
   ],
   "source": [
    "y_test.shape"
   ]
  },
  {
   "cell_type": "code",
   "execution_count": 21,
   "id": "807507dc",
   "metadata": {},
   "outputs": [],
   "source": [
    "from sklearn.neighbors import KNeighborsClassifier"
   ]
  },
  {
   "cell_type": "code",
   "execution_count": 22,
   "id": "1a41218d",
   "metadata": {},
   "outputs": [],
   "source": [
    "knn=KNeighborsClassifier(n_neighbors=1) # n_neighbors=1 same as k=1\n",
    "model=knn.fit(x_train,y_train)  # Traing stage (takes all the datapoints and put in a grapth or memory or model which are having neighbores)"
   ]
  },
  {
   "cell_type": "code",
   "execution_count": 23,
   "id": "dbf1d40c",
   "metadata": {},
   "outputs": [],
   "source": [
    "y_predict=model.predict(x_test) # testing stage"
   ]
  },
  {
   "cell_type": "code",
   "execution_count": 24,
   "id": "934bf897",
   "metadata": {},
   "outputs": [],
   "source": [
    "from sklearn.metrics import accuracy_score"
   ]
  },
  {
   "cell_type": "code",
   "execution_count": 25,
   "id": "fe8901e7",
   "metadata": {},
   "outputs": [],
   "source": [
    "accuracy=accuracy_score(y_test,y_predict)"
   ]
  },
  {
   "cell_type": "code",
   "execution_count": 26,
   "id": "4971e4f2",
   "metadata": {},
   "outputs": [
    {
     "data": {
      "text/plain": [
       "0.9333333333333333"
      ]
     },
     "execution_count": 26,
     "metadata": {},
     "output_type": "execute_result"
    }
   ],
   "source": [
    "accuracy"
   ]
  },
  {
   "cell_type": "code",
   "execution_count": 27,
   "id": "25edd5ec",
   "metadata": {},
   "outputs": [],
   "source": [
    "error =1-accuracy"
   ]
  },
  {
   "cell_type": "code",
   "execution_count": 28,
   "id": "21f213d1",
   "metadata": {},
   "outputs": [
    {
     "data": {
      "text/plain": [
       "0.06666666666666665"
      ]
     },
     "execution_count": 28,
     "metadata": {},
     "output_type": "execute_result"
    }
   ],
   "source": [
    "error"
   ]
  },
  {
   "cell_type": "code",
   "execution_count": 29,
   "id": "7ecec9fc",
   "metadata": {},
   "outputs": [],
   "source": [
    "def acc(k):\n",
    "    if k%2!=0:\n",
    "        knn=KNeighborsClassifier(n_neighbors=k)\n",
    "        model=knn.fit(x_train,y_train) \n",
    "        y_predict=model.predict(x_test)\n",
    "        print('the accuracy for given k {} is'.format(k),accuracy_score(y_test,y_predict))\n",
    "    else: print('enter odd value')"
   ]
  },
  {
   "cell_type": "code",
   "execution_count": 30,
   "id": "0c573f1d",
   "metadata": {},
   "outputs": [
    {
     "name": "stdout",
     "output_type": "stream",
     "text": [
      "the accuracy for given k 5 is 0.9333333333333333\n"
     ]
    }
   ],
   "source": [
    "acc(5)"
   ]
  },
  {
   "cell_type": "code",
   "execution_count": 31,
   "id": "15b17a20",
   "metadata": {},
   "outputs": [
    {
     "name": "stdout",
     "output_type": "stream",
     "text": [
      "The accuracy for given k 1 is 0.9333333333333333\n",
      "The accuracy for given k 3 is 0.9333333333333333\n",
      "The accuracy for given k 5 is 0.9333333333333333\n",
      "The accuracy for given k 7 is 1.0\n",
      "The accuracy for given k 9 is 1.0\n",
      "The accuracy for given k 11 is 0.9555555555555556\n",
      "The accuracy for given k 13 is 0.9777777777777777\n",
      "The accuracy for given k 15 is 0.9555555555555556\n",
      "The accuracy for given k 17 is 0.9555555555555556\n",
      "The accuracy for given k 19 is 0.9555555555555556\n"
     ]
    }
   ],
   "source": [
    "def acc(k):\n",
    "    for i in range(k):\n",
    "        if i%2!=0:\n",
    "            knn=KNeighborsClassifier(n_neighbors=i)\n",
    "            model=knn.fit(x_train,y_train) \n",
    "            y_predict=model.predict(x_test)\n",
    "            print('The accuracy for given k {} is'.format(i),accuracy_score(y_test,y_predict))\n",
    "        else:pass\n",
    "acc(20)"
   ]
  },
  {
   "cell_type": "code",
   "execution_count": 32,
   "id": "7421ba53",
   "metadata": {},
   "outputs": [],
   "source": [
    "# Crossvalidaton"
   ]
  },
  {
   "cell_type": "code",
   "execution_count": 33,
   "id": "db8be2a2",
   "metadata": {},
   "outputs": [],
   "source": [
    "x_train,x_test,y_train,y_test=train_test_split(fvar,label,train_size=0.8)\n",
    "x_trainf,xcv,y_trainf,ycv=train_test_split(x_train,y_train,train_size=0.8)"
   ]
  },
  {
   "cell_type": "code",
   "execution_count": 34,
   "id": "79574093",
   "metadata": {},
   "outputs": [
    {
     "data": {
      "text/plain": [
       "array([2, 2, 0, 2, 2, 1, 2, 1, 0, 0, 1, 0, 1, 1, 1, 1, 0, 1, 2, 0, 0, 1,\n",
       "       2, 2])"
      ]
     },
     "execution_count": 34,
     "metadata": {},
     "output_type": "execute_result"
    }
   ],
   "source": [
    "ycv"
   ]
  },
  {
   "cell_type": "code",
   "execution_count": 35,
   "id": "86848c2a",
   "metadata": {},
   "outputs": [
    {
     "data": {
      "text/html": [
       "<div>\n",
       "<style scoped>\n",
       "    .dataframe tbody tr th:only-of-type {\n",
       "        vertical-align: middle;\n",
       "    }\n",
       "\n",
       "    .dataframe tbody tr th {\n",
       "        vertical-align: top;\n",
       "    }\n",
       "\n",
       "    .dataframe thead th {\n",
       "        text-align: right;\n",
       "    }\n",
       "</style>\n",
       "<table border=\"1\" class=\"dataframe\">\n",
       "  <thead>\n",
       "    <tr style=\"text-align: right;\">\n",
       "      <th></th>\n",
       "      <th>sepalLengthCm</th>\n",
       "      <th>sepalWidthCm</th>\n",
       "      <th>petalLengthCm</th>\n",
       "      <th>petalWidthCm</th>\n",
       "    </tr>\n",
       "  </thead>\n",
       "  <tbody>\n",
       "    <tr>\n",
       "      <th>149</th>\n",
       "      <td>5.9</td>\n",
       "      <td>3.0</td>\n",
       "      <td>5.1</td>\n",
       "      <td>1.8</td>\n",
       "    </tr>\n",
       "    <tr>\n",
       "      <th>112</th>\n",
       "      <td>6.8</td>\n",
       "      <td>3.0</td>\n",
       "      <td>5.5</td>\n",
       "      <td>2.1</td>\n",
       "    </tr>\n",
       "    <tr>\n",
       "      <th>83</th>\n",
       "      <td>6.0</td>\n",
       "      <td>2.7</td>\n",
       "      <td>5.1</td>\n",
       "      <td>1.6</td>\n",
       "    </tr>\n",
       "    <tr>\n",
       "      <th>73</th>\n",
       "      <td>6.1</td>\n",
       "      <td>2.8</td>\n",
       "      <td>4.7</td>\n",
       "      <td>1.2</td>\n",
       "    </tr>\n",
       "    <tr>\n",
       "      <th>44</th>\n",
       "      <td>5.1</td>\n",
       "      <td>3.8</td>\n",
       "      <td>1.9</td>\n",
       "      <td>0.4</td>\n",
       "    </tr>\n",
       "    <tr>\n",
       "      <th>...</th>\n",
       "      <td>...</td>\n",
       "      <td>...</td>\n",
       "      <td>...</td>\n",
       "      <td>...</td>\n",
       "    </tr>\n",
       "    <tr>\n",
       "      <th>33</th>\n",
       "      <td>5.5</td>\n",
       "      <td>4.2</td>\n",
       "      <td>1.4</td>\n",
       "      <td>0.2</td>\n",
       "    </tr>\n",
       "    <tr>\n",
       "      <th>71</th>\n",
       "      <td>6.1</td>\n",
       "      <td>2.8</td>\n",
       "      <td>4.0</td>\n",
       "      <td>1.3</td>\n",
       "    </tr>\n",
       "    <tr>\n",
       "      <th>6</th>\n",
       "      <td>4.6</td>\n",
       "      <td>3.4</td>\n",
       "      <td>1.4</td>\n",
       "      <td>0.3</td>\n",
       "    </tr>\n",
       "    <tr>\n",
       "      <th>106</th>\n",
       "      <td>4.9</td>\n",
       "      <td>2.5</td>\n",
       "      <td>4.5</td>\n",
       "      <td>1.7</td>\n",
       "    </tr>\n",
       "    <tr>\n",
       "      <th>46</th>\n",
       "      <td>5.1</td>\n",
       "      <td>3.8</td>\n",
       "      <td>1.6</td>\n",
       "      <td>0.2</td>\n",
       "    </tr>\n",
       "  </tbody>\n",
       "</table>\n",
       "<p>96 rows × 4 columns</p>\n",
       "</div>"
      ],
      "text/plain": [
       "     sepalLengthCm  sepalWidthCm  petalLengthCm  petalWidthCm\n",
       "149            5.9           3.0            5.1           1.8\n",
       "112            6.8           3.0            5.5           2.1\n",
       "83             6.0           2.7            5.1           1.6\n",
       "73             6.1           2.8            4.7           1.2\n",
       "44             5.1           3.8            1.9           0.4\n",
       "..             ...           ...            ...           ...\n",
       "33             5.5           4.2            1.4           0.2\n",
       "71             6.1           2.8            4.0           1.3\n",
       "6              4.6           3.4            1.4           0.3\n",
       "106            4.9           2.5            4.5           1.7\n",
       "46             5.1           3.8            1.6           0.2\n",
       "\n",
       "[96 rows x 4 columns]"
      ]
     },
     "execution_count": 35,
     "metadata": {},
     "output_type": "execute_result"
    }
   ],
   "source": [
    "x_trainf"
   ]
  },
  {
   "cell_type": "code",
   "execution_count": 36,
   "id": "708a203a",
   "metadata": {},
   "outputs": [
    {
     "data": {
      "text/html": [
       "<div>\n",
       "<style scoped>\n",
       "    .dataframe tbody tr th:only-of-type {\n",
       "        vertical-align: middle;\n",
       "    }\n",
       "\n",
       "    .dataframe tbody tr th {\n",
       "        vertical-align: top;\n",
       "    }\n",
       "\n",
       "    .dataframe thead th {\n",
       "        text-align: right;\n",
       "    }\n",
       "</style>\n",
       "<table border=\"1\" class=\"dataframe\">\n",
       "  <thead>\n",
       "    <tr style=\"text-align: right;\">\n",
       "      <th></th>\n",
       "      <th>sepalLengthCm</th>\n",
       "      <th>sepalWidthCm</th>\n",
       "      <th>petalLengthCm</th>\n",
       "      <th>petalWidthCm</th>\n",
       "    </tr>\n",
       "  </thead>\n",
       "  <tbody>\n",
       "    <tr>\n",
       "      <th>133</th>\n",
       "      <td>6.3</td>\n",
       "      <td>2.8</td>\n",
       "      <td>5.1</td>\n",
       "      <td>1.5</td>\n",
       "    </tr>\n",
       "    <tr>\n",
       "      <th>128</th>\n",
       "      <td>6.4</td>\n",
       "      <td>2.8</td>\n",
       "      <td>5.6</td>\n",
       "      <td>2.1</td>\n",
       "    </tr>\n",
       "    <tr>\n",
       "      <th>11</th>\n",
       "      <td>4.8</td>\n",
       "      <td>3.4</td>\n",
       "      <td>1.6</td>\n",
       "      <td>0.2</td>\n",
       "    </tr>\n",
       "    <tr>\n",
       "      <th>119</th>\n",
       "      <td>6.0</td>\n",
       "      <td>2.2</td>\n",
       "      <td>5.0</td>\n",
       "      <td>1.5</td>\n",
       "    </tr>\n",
       "    <tr>\n",
       "      <th>104</th>\n",
       "      <td>6.5</td>\n",
       "      <td>3.0</td>\n",
       "      <td>5.8</td>\n",
       "      <td>2.2</td>\n",
       "    </tr>\n",
       "    <tr>\n",
       "      <th>89</th>\n",
       "      <td>5.5</td>\n",
       "      <td>2.5</td>\n",
       "      <td>4.0</td>\n",
       "      <td>1.3</td>\n",
       "    </tr>\n",
       "    <tr>\n",
       "      <th>105</th>\n",
       "      <td>7.6</td>\n",
       "      <td>3.0</td>\n",
       "      <td>6.6</td>\n",
       "      <td>2.1</td>\n",
       "    </tr>\n",
       "    <tr>\n",
       "      <th>88</th>\n",
       "      <td>5.6</td>\n",
       "      <td>3.0</td>\n",
       "      <td>4.1</td>\n",
       "      <td>1.3</td>\n",
       "    </tr>\n",
       "    <tr>\n",
       "      <th>10</th>\n",
       "      <td>5.4</td>\n",
       "      <td>3.7</td>\n",
       "      <td>1.5</td>\n",
       "      <td>0.2</td>\n",
       "    </tr>\n",
       "    <tr>\n",
       "      <th>19</th>\n",
       "      <td>5.1</td>\n",
       "      <td>3.8</td>\n",
       "      <td>1.5</td>\n",
       "      <td>0.3</td>\n",
       "    </tr>\n",
       "    <tr>\n",
       "      <th>87</th>\n",
       "      <td>6.3</td>\n",
       "      <td>2.3</td>\n",
       "      <td>4.4</td>\n",
       "      <td>1.3</td>\n",
       "    </tr>\n",
       "    <tr>\n",
       "      <th>1</th>\n",
       "      <td>4.9</td>\n",
       "      <td>3.0</td>\n",
       "      <td>1.4</td>\n",
       "      <td>0.2</td>\n",
       "    </tr>\n",
       "    <tr>\n",
       "      <th>54</th>\n",
       "      <td>6.5</td>\n",
       "      <td>2.8</td>\n",
       "      <td>4.6</td>\n",
       "      <td>1.5</td>\n",
       "    </tr>\n",
       "    <tr>\n",
       "      <th>77</th>\n",
       "      <td>6.7</td>\n",
       "      <td>3.0</td>\n",
       "      <td>5.0</td>\n",
       "      <td>1.7</td>\n",
       "    </tr>\n",
       "    <tr>\n",
       "      <th>61</th>\n",
       "      <td>5.9</td>\n",
       "      <td>3.0</td>\n",
       "      <td>4.2</td>\n",
       "      <td>1.5</td>\n",
       "    </tr>\n",
       "    <tr>\n",
       "      <th>57</th>\n",
       "      <td>4.9</td>\n",
       "      <td>2.4</td>\n",
       "      <td>3.3</td>\n",
       "      <td>1.0</td>\n",
       "    </tr>\n",
       "    <tr>\n",
       "      <th>3</th>\n",
       "      <td>4.6</td>\n",
       "      <td>3.1</td>\n",
       "      <td>1.5</td>\n",
       "      <td>0.2</td>\n",
       "    </tr>\n",
       "    <tr>\n",
       "      <th>76</th>\n",
       "      <td>6.8</td>\n",
       "      <td>2.8</td>\n",
       "      <td>4.8</td>\n",
       "      <td>1.4</td>\n",
       "    </tr>\n",
       "    <tr>\n",
       "      <th>100</th>\n",
       "      <td>6.3</td>\n",
       "      <td>3.3</td>\n",
       "      <td>6.0</td>\n",
       "      <td>2.5</td>\n",
       "    </tr>\n",
       "    <tr>\n",
       "      <th>29</th>\n",
       "      <td>4.7</td>\n",
       "      <td>3.2</td>\n",
       "      <td>1.6</td>\n",
       "      <td>0.2</td>\n",
       "    </tr>\n",
       "    <tr>\n",
       "      <th>49</th>\n",
       "      <td>5.0</td>\n",
       "      <td>3.3</td>\n",
       "      <td>1.4</td>\n",
       "      <td>0.2</td>\n",
       "    </tr>\n",
       "    <tr>\n",
       "      <th>79</th>\n",
       "      <td>5.7</td>\n",
       "      <td>2.6</td>\n",
       "      <td>3.5</td>\n",
       "      <td>1.0</td>\n",
       "    </tr>\n",
       "    <tr>\n",
       "      <th>126</th>\n",
       "      <td>6.2</td>\n",
       "      <td>2.8</td>\n",
       "      <td>4.8</td>\n",
       "      <td>1.8</td>\n",
       "    </tr>\n",
       "    <tr>\n",
       "      <th>102</th>\n",
       "      <td>7.1</td>\n",
       "      <td>3.0</td>\n",
       "      <td>5.9</td>\n",
       "      <td>2.1</td>\n",
       "    </tr>\n",
       "  </tbody>\n",
       "</table>\n",
       "</div>"
      ],
      "text/plain": [
       "     sepalLengthCm  sepalWidthCm  petalLengthCm  petalWidthCm\n",
       "133            6.3           2.8            5.1           1.5\n",
       "128            6.4           2.8            5.6           2.1\n",
       "11             4.8           3.4            1.6           0.2\n",
       "119            6.0           2.2            5.0           1.5\n",
       "104            6.5           3.0            5.8           2.2\n",
       "89             5.5           2.5            4.0           1.3\n",
       "105            7.6           3.0            6.6           2.1\n",
       "88             5.6           3.0            4.1           1.3\n",
       "10             5.4           3.7            1.5           0.2\n",
       "19             5.1           3.8            1.5           0.3\n",
       "87             6.3           2.3            4.4           1.3\n",
       "1              4.9           3.0            1.4           0.2\n",
       "54             6.5           2.8            4.6           1.5\n",
       "77             6.7           3.0            5.0           1.7\n",
       "61             5.9           3.0            4.2           1.5\n",
       "57             4.9           2.4            3.3           1.0\n",
       "3              4.6           3.1            1.5           0.2\n",
       "76             6.8           2.8            4.8           1.4\n",
       "100            6.3           3.3            6.0           2.5\n",
       "29             4.7           3.2            1.6           0.2\n",
       "49             5.0           3.3            1.4           0.2\n",
       "79             5.7           2.6            3.5           1.0\n",
       "126            6.2           2.8            4.8           1.8\n",
       "102            7.1           3.0            5.9           2.1"
      ]
     },
     "execution_count": 36,
     "metadata": {},
     "output_type": "execute_result"
    }
   ],
   "source": [
    "xcv"
   ]
  },
  {
   "cell_type": "code",
   "execution_count": 37,
   "id": "ade1c634",
   "metadata": {},
   "outputs": [
    {
     "data": {
      "text/plain": [
       "array([2, 2, 1, 1, 0, 1, 0, 0, 2, 1, 0, 2, 2, 2, 1, 0, 0, 1, 1, 1, 2, 2,\n",
       "       1, 1, 2, 0, 1, 2, 0, 0, 2, 2, 0, 1, 0, 1, 0, 1, 0, 2, 2, 0, 1, 1,\n",
       "       2, 0, 1, 2, 0, 2, 2, 2, 2, 2, 0, 2, 1, 1, 0, 2, 1, 1, 2, 1, 1, 2,\n",
       "       0, 0, 0, 0, 2, 0, 2, 1, 0, 2, 0, 0, 2, 1, 1, 0, 2, 0, 0, 1, 1, 0,\n",
       "       2, 2, 1, 0, 1, 0, 2, 0])"
      ]
     },
     "execution_count": 37,
     "metadata": {},
     "output_type": "execute_result"
    }
   ],
   "source": [
    "y_trainf"
   ]
  },
  {
   "cell_type": "code",
   "execution_count": 38,
   "id": "e6ab4288",
   "metadata": {},
   "outputs": [],
   "source": [
    "terror=[] #training error\n",
    "kvalues=[]\n",
    "def acc(k):\n",
    "    for i in range(k):\n",
    "        if i%2!=0:\n",
    "            kvalues.append(i)\n",
    "            knn=KNeighborsClassifier(n_neighbors=i)\n",
    "            model=knn.fit(x_trainf,y_trainf) \n",
    "            y_predict=model.predict(x_trainf)\n",
    "            terror.append(1-accuracy_score(y_trainf,y_predict))"
   ]
  },
  {
   "cell_type": "code",
   "execution_count": 39,
   "id": "ffc2bd99",
   "metadata": {},
   "outputs": [],
   "source": [
    "acc(20)"
   ]
  },
  {
   "cell_type": "code",
   "execution_count": 40,
   "id": "14403774",
   "metadata": {},
   "outputs": [
    {
     "data": {
      "text/plain": [
       "[0.0,\n",
       " 0.04166666666666663,\n",
       " 0.03125,\n",
       " 0.03125,\n",
       " 0.03125,\n",
       " 0.04166666666666663,\n",
       " 0.04166666666666663,\n",
       " 0.03125,\n",
       " 0.03125,\n",
       " 0.04166666666666663]"
      ]
     },
     "execution_count": 40,
     "metadata": {},
     "output_type": "execute_result"
    }
   ],
   "source": [
    "terror\n"
   ]
  },
  {
   "cell_type": "code",
   "execution_count": 41,
   "id": "cd91f81e",
   "metadata": {},
   "outputs": [
    {
     "data": {
      "text/plain": [
       "[1, 3, 5, 7, 9, 11, 13, 15, 17, 19]"
      ]
     },
     "execution_count": 41,
     "metadata": {},
     "output_type": "execute_result"
    }
   ],
   "source": [
    "kvalues"
   ]
  },
  {
   "cell_type": "code",
   "execution_count": 42,
   "id": "d4837ecb",
   "metadata": {},
   "outputs": [],
   "source": [
    "cverror=[] # Crossvalidation error \n",
    "kvalues=[]\n",
    "def acc(k):\n",
    "    for i in range(k):\n",
    "        if i%2!=0:\n",
    "            kvalues.append(i)\n",
    "            knn=KNeighborsClassifier(n_neighbors=i)\n",
    "            model=knn.fit(x_trainf,y_trainf) \n",
    "            y_predict=model.predict(xcv)\n",
    "            #print('The error for given k {} is'.format(i),1-accuracy_score(ycv,ycv_predict))\n",
    "            cverror.append(1-accuracy_score(ycv,y_predict))\n",
    "acc(20)"
   ]
  },
  {
   "cell_type": "code",
   "execution_count": 43,
   "id": "2d98a0b0",
   "metadata": {},
   "outputs": [
    {
     "data": {
      "text/plain": [
       "[0.08333333333333337,\n",
       " 0.08333333333333337,\n",
       " 0.125,\n",
       " 0.0,\n",
       " 0.04166666666666663,\n",
       " 0.04166666666666663,\n",
       " 0.04166666666666663,\n",
       " 0.04166666666666663,\n",
       " 0.04166666666666663,\n",
       " 0.04166666666666663]"
      ]
     },
     "execution_count": 43,
     "metadata": {},
     "output_type": "execute_result"
    }
   ],
   "source": [
    "cverror"
   ]
  },
  {
   "cell_type": "code",
   "execution_count": 45,
   "id": "9ef2c65f",
   "metadata": {},
   "outputs": [
    {
     "data": {
      "image/png": "[encoded data removed]",
      "text/plain": [
       "<Figure size 576x576 with 1 Axes>"
      ]
     },
     "metadata": {
      "needs_background": "light"
     },
     "output_type": "display_data"
    }
   ],
   "source": [
    "fig=plt.figure(figsize=(8,8))\n",
    "plt.plot(kvalues,cverror,label=\"crossvalidation error\",color='r')\n",
    "plt.plot(kvalues,terror,label=\"Training error\",color='b')\n",
    "plt.xticks(kvalues)\n",
    "plt.show()"
   ]
  },
  {
   "cell_type": "code",
   "execution_count": 46,
   "id": "808e4911",
   "metadata": {},
   "outputs": [
    {
     "data": {
      "text/plain": [
       "[1, 3, 5, 7, 9, 11, 13, 15, 17, 19]"
      ]
     },
     "execution_count": 46,
     "metadata": {},
     "output_type": "execute_result"
    }
   ],
   "source": [
    "[y for y in range(1,20,2)]"
   ]
  },
  {
   "cell_type": "code",
   "execution_count": 49,
   "id": "290195cb",
   "metadata": {},
   "outputs": [],
   "source": [
    "#k=5 ----> therfore the best k thet found is 5\n"
   ]
  },
  {
   "cell_type": "code",
   "execution_count": 52,
   "id": "09d2ebd5",
   "metadata": {},
   "outputs": [
    {
     "data": {
      "text/plain": [
       "0.033333333333333326"
      ]
     },
     "execution_count": 52,
     "metadata": {},
     "output_type": "execute_result"
    }
   ],
   "source": [
    "knn=KNeighborsClassifier(n_neighbors=5)\n",
    "model=knn.fit(x_trainf,y_trainf) \n",
    "y_predict=model.predict(x_test)\n",
    "1-accuracy_score(y_test,y_predict)"
   ]
  },
  {
   "cell_type": "code",
   "execution_count": 53,
   "id": "5294bb6e",
   "metadata": {},
   "outputs": [
    {
     "data": {
      "text/plain": [
       "0.9666666666666667"
      ]
     },
     "execution_count": 53,
     "metadata": {},
     "output_type": "execute_result"
    }
   ],
   "source": [
    "accuracy_score(y_test,y_predict)"
   ]
  },
  {
   "cell_type": "code",
   "execution_count": 54,
   "id": "a1f8a63b",
   "metadata": {},
   "outputs": [
    {
     "name": "stderr",
     "output_type": "stream",
     "text": [
      "C:\\Users\\Gogula Vinay\\anaconda3\\lib\\site-packages\\sklearn\\base.py:450: UserWarning: X does not have valid feature names, but KNeighborsClassifier was fitted with feature names\n",
      "  warnings.warn(\n"
     ]
    },
    {
     "data": {
      "text/plain": [
       "array([0])"
      ]
     },
     "execution_count": 54,
     "metadata": {},
     "output_type": "execute_result"
    }
   ],
   "source": [
    "model.predict([[1.2,2.2,2.3,2.1]])"
   ]
  },
  {
   "cell_type": "code",
   "execution_count": null,
   "id": "6844373b",
   "metadata": {},
   "outputs": [],
   "source": [
    "# So setosa flower "
   ]
  },
  {
   "cell_type": "code",
   "execution_count": null,
   "id": "cb19fc5c",
   "metadata": {},
   "outputs": [],
   "source": []
  },
  {
   "cell_type": "code",
   "execution_count": null,
   "id": "d26924e1",
   "metadata": {},
   "outputs": [],
   "source": []
  },
  {
   "cell_type": "code",
   "execution_count": 55,
   "id": "84073cc8",
   "metadata": {},
   "outputs": [],
   "source": [
    "# K Fold"
   ]
  },
  {
   "cell_type": "code",
   "execution_count": 69,
   "id": "18224745",
   "metadata": {},
   "outputs": [],
   "source": [
    "from sklearn.model_selection import KFold"
   ]
  },
  {
   "cell_type": "code",
   "execution_count": 70,
   "id": "05886121",
   "metadata": {},
   "outputs": [],
   "source": [
    "k=KFold(n_splits=3)"
   ]
  },
  {
   "cell_type": "code",
   "execution_count": 71,
   "id": "291fd17a",
   "metadata": {},
   "outputs": [
    {
     "name": "stdout",
     "output_type": "stream",
     "text": [
      "[3 4 5 6 7 8] [0 1 2]\n",
      "[0 1 2 6 7 8] [3 4 5]\n",
      "[0 1 2 3 4 5] [6 7 8]\n"
     ]
    }
   ],
   "source": [
    "for train_index,cv_index in k.split([1,2,3,4,5,6,7,8,9]):\n",
    "    print(train_index,cv_index)"
   ]
  },
  {
   "cell_type": "code",
   "execution_count": null,
   "id": "2279bcff",
   "metadata": {},
   "outputs": [],
   "source": [
    "# these are the index value not the actial values"
   ]
  },
  {
   "cell_type": "code",
   "execution_count": 57,
   "id": "4ef842ce",
   "metadata": {},
   "outputs": [],
   "source": [
    "# K Fold method 2"
   ]
  },
  {
   "cell_type": "code",
   "execution_count": 58,
   "id": "3e390450",
   "metadata": {},
   "outputs": [],
   "source": [
    "from sklearn.model_selection import cross_val_score\n",
    "x_train,x_test,y_train,y_test=train_test_split(fvar,label,train_size=0.8)\n",
    "accuracy=cross_val_score(KNeighborsClassifier(n_neighbors=1),x_train,y_train,cv=3)\n",
    "finalaccuracy=np.mean(accuracy)\n",
    "finalaccuracy"
   ]
  },
  {
   "cell_type": "code",
   "execution_count": 66,
   "id": "57650937",
   "metadata": {},
   "outputs": [
    {
     "name": "stdout",
     "output_type": "stream",
     "text": [
      "for the given value of k=1 the accuracy is 0.9583333333333334 whaen we have 3 fold\n",
      "for the given value of k=3 the accuracy is 0.9583333333333334 whaen we have 3 fold\n",
      "for the given value of k=5 the accuracy is 0.9583333333333334 whaen we have 3 fold\n",
      "for the given value of k=7 the accuracy is 0.9249999999999999 whaen we have 3 fold\n",
      "for the given value of k=9 the accuracy is 0.9583333333333334 whaen we have 3 fold\n",
      "for the given value of k=11 the accuracy is 0.9499999999999998 whaen we have 3 fold\n",
      "for the given value of k=13 the accuracy is 0.9499999999999998 whaen we have 3 fold\n",
      "for the given value of k=15 the accuracy is 0.9583333333333334 whaen we have 3 fold\n",
      "for the given value of k=17 the accuracy is 0.975 whaen we have 3 fold\n",
      "for the given value of k=19 the accuracy is 0.9500000000000001 whaen we have 3 fold\n"
     ]
    }
   ],
   "source": [
    "for k in range(1,20,2):\n",
    "    x_train,x_test,y_train,y_test=train_test_split(fvar,label,train_size=0.8)\n",
    "    print('for the given value of k={} the accuracy is {} whaen we have 3 fold'.format(k,np.mean(cross_val_score(KNeighborsClassifier(n_neighbors=1),x_train,y_train,cv=3))))\n",
    "  \n",
    "    "
   ]
  },
  {
   "cell_type": "code",
   "execution_count": null,
   "id": "94960090",
   "metadata": {},
   "outputs": [],
   "source": [
    "# K = 17 is good and we are getting 97% accuracy"
   ]
  },
  {
   "cell_type": "code",
   "execution_count": null,
   "id": "b0acea68",
   "metadata": {},
   "outputs": [],
   "source": [
    "# decision surface"
   ]
  },
  {
   "cell_type": "code",
   "execution_count": 47,
   "id": "7933950c",
   "metadata": {},
   "outputs": [],
   "source": [
    "from mlxtend.plotting import plot_decision_regions"
   ]
  },
  {
   "cell_type": "code",
   "execution_count": 49,
   "id": "e29b98f9",
   "metadata": {},
   "outputs": [
    {
     "data": {
      "text/html": [
       "<div>\n",
       "<style scoped>\n",
       "    .dataframe tbody tr th:only-of-type {\n",
       "        vertical-align: middle;\n",
       "    }\n",
       "\n",
       "    .dataframe tbody tr th {\n",
       "        vertical-align: top;\n",
       "    }\n",
       "\n",
       "    .dataframe thead th {\n",
       "        text-align: right;\n",
       "    }\n",
       "</style>\n",
       "<table border=\"1\" class=\"dataframe\">\n",
       "  <thead>\n",
       "    <tr style=\"text-align: right;\">\n",
       "      <th></th>\n",
       "      <th>sepalLengthCm</th>\n",
       "      <th>sepalWidthCm</th>\n",
       "      <th>petalLengthCm</th>\n",
       "      <th>petalWidthCm</th>\n",
       "    </tr>\n",
       "  </thead>\n",
       "  <tbody>\n",
       "    <tr>\n",
       "      <th>149</th>\n",
       "      <td>5.9</td>\n",
       "      <td>3.0</td>\n",
       "      <td>5.1</td>\n",
       "      <td>1.8</td>\n",
       "    </tr>\n",
       "    <tr>\n",
       "      <th>112</th>\n",
       "      <td>6.8</td>\n",
       "      <td>3.0</td>\n",
       "      <td>5.5</td>\n",
       "      <td>2.1</td>\n",
       "    </tr>\n",
       "    <tr>\n",
       "      <th>83</th>\n",
       "      <td>6.0</td>\n",
       "      <td>2.7</td>\n",
       "      <td>5.1</td>\n",
       "      <td>1.6</td>\n",
       "    </tr>\n",
       "    <tr>\n",
       "      <th>73</th>\n",
       "      <td>6.1</td>\n",
       "      <td>2.8</td>\n",
       "      <td>4.7</td>\n",
       "      <td>1.2</td>\n",
       "    </tr>\n",
       "    <tr>\n",
       "      <th>44</th>\n",
       "      <td>5.1</td>\n",
       "      <td>3.8</td>\n",
       "      <td>1.9</td>\n",
       "      <td>0.4</td>\n",
       "    </tr>\n",
       "    <tr>\n",
       "      <th>...</th>\n",
       "      <td>...</td>\n",
       "      <td>...</td>\n",
       "      <td>...</td>\n",
       "      <td>...</td>\n",
       "    </tr>\n",
       "    <tr>\n",
       "      <th>33</th>\n",
       "      <td>5.5</td>\n",
       "      <td>4.2</td>\n",
       "      <td>1.4</td>\n",
       "      <td>0.2</td>\n",
       "    </tr>\n",
       "    <tr>\n",
       "      <th>71</th>\n",
       "      <td>6.1</td>\n",
       "      <td>2.8</td>\n",
       "      <td>4.0</td>\n",
       "      <td>1.3</td>\n",
       "    </tr>\n",
       "    <tr>\n",
       "      <th>6</th>\n",
       "      <td>4.6</td>\n",
       "      <td>3.4</td>\n",
       "      <td>1.4</td>\n",
       "      <td>0.3</td>\n",
       "    </tr>\n",
       "    <tr>\n",
       "      <th>106</th>\n",
       "      <td>4.9</td>\n",
       "      <td>2.5</td>\n",
       "      <td>4.5</td>\n",
       "      <td>1.7</td>\n",
       "    </tr>\n",
       "    <tr>\n",
       "      <th>46</th>\n",
       "      <td>5.1</td>\n",
       "      <td>3.8</td>\n",
       "      <td>1.6</td>\n",
       "      <td>0.2</td>\n",
       "    </tr>\n",
       "  </tbody>\n",
       "</table>\n",
       "<p>96 rows × 4 columns</p>\n",
       "</div>"
      ],
      "text/plain": [
       "     sepalLengthCm  sepalWidthCm  petalLengthCm  petalWidthCm\n",
       "149            5.9           3.0            5.1           1.8\n",
       "112            6.8           3.0            5.5           2.1\n",
       "83             6.0           2.7            5.1           1.6\n",
       "73             6.1           2.8            4.7           1.2\n",
       "44             5.1           3.8            1.9           0.4\n",
       "..             ...           ...            ...           ...\n",
       "33             5.5           4.2            1.4           0.2\n",
       "71             6.1           2.8            4.0           1.3\n",
       "6              4.6           3.4            1.4           0.3\n",
       "106            4.9           2.5            4.5           1.7\n",
       "46             5.1           3.8            1.6           0.2\n",
       "\n",
       "[96 rows x 4 columns]"
      ]
     },
     "execution_count": 49,
     "metadata": {},
     "output_type": "execute_result"
    }
   ],
   "source": [
    "x_trainf"
   ]
  },
  {
   "cell_type": "code",
   "execution_count": 50,
   "id": "76a73b70",
   "metadata": {},
   "outputs": [
    {
     "data": {
      "text/plain": [
       "array([2, 2, 1, 1, 0, 1, 0, 0, 2, 1, 0, 2, 2, 2, 1, 0, 0, 1, 1, 1, 2, 2,\n",
       "       1, 1, 2, 0, 1, 2, 0, 0, 2, 2, 0, 1, 0, 1, 0, 1, 0, 2, 2, 0, 1, 1,\n",
       "       2, 0, 1, 2, 0, 2, 2, 2, 2, 2, 0, 2, 1, 1, 0, 2, 1, 1, 2, 1, 1, 2,\n",
       "       0, 0, 0, 0, 2, 0, 2, 1, 0, 2, 0, 0, 2, 1, 1, 0, 2, 0, 0, 1, 1, 0,\n",
       "       2, 2, 1, 0, 1, 0, 2, 0])"
      ]
     },
     "execution_count": 50,
     "metadata": {},
     "output_type": "execute_result"
    }
   ],
   "source": [
    "y_trainf"
   ]
  },
  {
   "cell_type": "code",
   "execution_count": 48,
   "id": "e713cf59",
   "metadata": {},
   "outputs": [
    {
     "data": {
      "text/plain": [
       "<AxesSubplot:>"
      ]
     },
     "execution_count": 48,
     "metadata": {},
     "output_type": "execute_result"
    },
    {
     "data": {
      "image/png": "[encoded data removed]",
      "text/plain": [
       "<Figure size 432x288 with 1 Axes>"
      ]
     },
     "metadata": {
      "needs_background": "light"
     },
     "output_type": "display_data"
    }
   ],
   "source": [
    "knn=KNeighborsClassifier(n_neighbors=11)\n",
    "knn.fit(x_trainf.values[:,[0,2]],y_trainf)\n",
    "plot_decision_regions(x_trainf.values[:,[0,2]],y_trainf,knn)"
   ]
  },
  {
   "cell_type": "code",
   "execution_count": 86,
   "id": "f4309328",
   "metadata": {},
   "outputs": [
    {
     "data": {
      "text/html": [
       "<div>\n",
       "<style scoped>\n",
       "    .dataframe tbody tr th:only-of-type {\n",
       "        vertical-align: middle;\n",
       "    }\n",
       "\n",
       "    .dataframe tbody tr th {\n",
       "        vertical-align: top;\n",
       "    }\n",
       "\n",
       "    .dataframe thead th {\n",
       "        text-align: right;\n",
       "    }\n",
       "</style>\n",
       "<table border=\"1\" class=\"dataframe\">\n",
       "  <thead>\n",
       "    <tr style=\"text-align: right;\">\n",
       "      <th></th>\n",
       "      <th>0</th>\n",
       "      <th>1</th>\n",
       "      <th>2</th>\n",
       "    </tr>\n",
       "  </thead>\n",
       "  <tbody>\n",
       "    <tr>\n",
       "      <th>0</th>\n",
       "      <td>0.031595</td>\n",
       "      <td>0.986988</td>\n",
       "      <td>0.0</td>\n",
       "    </tr>\n",
       "    <tr>\n",
       "      <th>1</th>\n",
       "      <td>2.115098</td>\n",
       "      <td>-0.046244</td>\n",
       "      <td>1.0</td>\n",
       "    </tr>\n",
       "    <tr>\n",
       "      <th>2</th>\n",
       "      <td>0.882490</td>\n",
       "      <td>-0.075756</td>\n",
       "      <td>0.0</td>\n",
       "    </tr>\n",
       "    <tr>\n",
       "      <th>3</th>\n",
       "      <td>-0.055144</td>\n",
       "      <td>-0.037332</td>\n",
       "      <td>1.0</td>\n",
       "    </tr>\n",
       "    <tr>\n",
       "      <th>4</th>\n",
       "      <td>0.829545</td>\n",
       "      <td>-0.539321</td>\n",
       "      <td>1.0</td>\n",
       "    </tr>\n",
       "    <tr>\n",
       "      <th>...</th>\n",
       "      <td>...</td>\n",
       "      <td>...</td>\n",
       "      <td>...</td>\n",
       "    </tr>\n",
       "    <tr>\n",
       "      <th>95</th>\n",
       "      <td>1.699453</td>\n",
       "      <td>0.587720</td>\n",
       "      <td>1.0</td>\n",
       "    </tr>\n",
       "    <tr>\n",
       "      <th>96</th>\n",
       "      <td>0.218623</td>\n",
       "      <td>-0.652521</td>\n",
       "      <td>1.0</td>\n",
       "    </tr>\n",
       "    <tr>\n",
       "      <th>97</th>\n",
       "      <td>0.952914</td>\n",
       "      <td>-0.419766</td>\n",
       "      <td>1.0</td>\n",
       "    </tr>\n",
       "    <tr>\n",
       "      <th>98</th>\n",
       "      <td>-1.318500</td>\n",
       "      <td>0.423112</td>\n",
       "      <td>0.0</td>\n",
       "    </tr>\n",
       "    <tr>\n",
       "      <th>99</th>\n",
       "      <td>-1.296818</td>\n",
       "      <td>0.184147</td>\n",
       "      <td>0.0</td>\n",
       "    </tr>\n",
       "  </tbody>\n",
       "</table>\n",
       "<p>100 rows × 3 columns</p>\n",
       "</div>"
      ],
      "text/plain": [
       "           0         1    2\n",
       "0   0.031595  0.986988  0.0\n",
       "1   2.115098 -0.046244  1.0\n",
       "2   0.882490 -0.075756  0.0\n",
       "3  -0.055144 -0.037332  1.0\n",
       "4   0.829545 -0.539321  1.0\n",
       "..       ...       ...  ...\n",
       "95  1.699453  0.587720  1.0\n",
       "96  0.218623 -0.652521  1.0\n",
       "97  0.952914 -0.419766  1.0\n",
       "98 -1.318500  0.423112  0.0\n",
       "99 -1.296818  0.184147  0.0\n",
       "\n",
       "[100 rows x 3 columns]"
      ]
     },
     "execution_count": 86,
     "metadata": {},
     "output_type": "execute_result"
    }
   ],
   "source": [
    "ushape=pd.read_csv(r\"C:\\Users\\Gogula Vinay\\Desktop\\Innomatics labs\\Data Science\\Machine Learning\\demo_data\\1.ushape.csv\",header=None)\n",
    "ushape"
   ]
  },
  {
   "cell_type": "code",
   "execution_count": 90,
   "id": "b2cd3472",
   "metadata": {},
   "outputs": [
    {
     "data": {
      "text/plain": [
       "array([0, 1, 0, 1, 1, 1, 0, 1, 1, 1, 1, 1, 1, 0, 0, 0, 0, 0, 0, 0, 0, 1,\n",
       "       0, 1, 0, 0, 0, 1, 1, 1, 1, 1, 1, 1, 1, 0, 0, 1, 1, 1, 0, 1, 0, 0,\n",
       "       0, 0, 0, 0, 0, 0, 1, 1, 0, 0, 0, 1, 0, 0, 0, 1, 0, 0, 1, 1, 1, 1,\n",
       "       0, 1, 0, 1, 0, 0, 0, 1, 1, 1, 0, 1, 1, 1, 0, 0, 1, 0, 0, 1, 1, 0,\n",
       "       1, 1, 1, 0, 0, 1, 0, 1, 1, 1, 0, 0])"
      ]
     },
     "execution_count": 90,
     "metadata": {},
     "output_type": "execute_result"
    }
   ],
   "source": [
    "ushape[2].astype(int).values"
   ]
  },
  {
   "cell_type": "code",
   "execution_count": 93,
   "id": "932ad8db",
   "metadata": {
    "collapsed": true
   },
   "outputs": [
    {
     "data": {
      "text/plain": [
       "array([[ 0.03159499,  0.98698776],\n",
       "       [ 2.11509784, -0.04624397],\n",
       "       [ 0.88248972, -0.07575606],\n",
       "       [-0.0551441 , -0.03733246],\n",
       "       [ 0.82954503, -0.53932149],\n",
       "       [ 2.11285708,  0.66208353],\n",
       "       [ 0.5696927 ,  0.33744136],\n",
       "       [ 0.95217454, -0.75307471],\n",
       "       [-0.02922115,  0.39287336],\n",
       "       [ 1.71579557,  0.36069454],\n",
       "       [-0.27883014,  0.61420539],\n",
       "       [ 2.00344509, -0.3091496 ],\n",
       "       [ 1.50009616, -0.74636376],\n",
       "       [ 1.22540835,  1.19793017],\n",
       "       [ 0.46730819,  0.54703192],\n",
       "       [-0.36653222,  1.11971633],\n",
       "       [ 0.30124459,  1.23315697],\n",
       "       [ 0.30430746,  0.82373935],\n",
       "       [-0.23712492,  0.77876034],\n",
       "       [ 1.16339832,  0.55290238],\n",
       "       [-0.59702417,  0.6572361 ],\n",
       "       [ 0.46356735, -0.1951543 ],\n",
       "       [ 0.68451111,  0.75287685],\n",
       "       [ 0.70515699, -0.45892444],\n",
       "       [-0.65805008, -0.12944211],\n",
       "       [-0.74662946, -0.3829632 ],\n",
       "       [ 0.60585226,  0.31252842],\n",
       "       [ 2.18137168, -0.02291747],\n",
       "       [ 1.91980633,  0.17247329],\n",
       "       [ 1.4834364 , -0.10517023],\n",
       "       [ 0.47404723, -0.14575067],\n",
       "       [ 1.05614605, -1.03570207],\n",
       "       [ 1.86500732, -0.01107874],\n",
       "       [ 0.4194721 , -0.32478101],\n",
       "       [ 0.06873258,  0.56648467],\n",
       "       [-0.17332432,  1.00215131],\n",
       "       [ 0.12412421,  1.00062892],\n",
       "       [ 0.18121142,  0.24717743],\n",
       "       [-0.25451559,  0.19317272],\n",
       "       [ 1.02580668, -0.62574566],\n",
       "       [ 1.52002143, -0.04515581],\n",
       "       [ 0.64174037, -0.39369468],\n",
       "       [-0.87615589,  0.0465662 ],\n",
       "       [-1.06964997,  0.13666025],\n",
       "       [ 1.02658765,  0.37782458],\n",
       "       [ 0.93131325,  1.38517841],\n",
       "       [ 0.67680544,  1.57189931],\n",
       "       [-0.36885733,  0.72886601],\n",
       "       [-1.02465495,  0.16190215],\n",
       "       [ 0.77455385,  0.15375803],\n",
       "       [ 1.4045116 , -0.00705701],\n",
       "       [-0.38147174, -0.23488747],\n",
       "       [ 0.72155224,  0.44721658],\n",
       "       [-0.51346686,  0.67869095],\n",
       "       [ 0.32118546,  0.28668667],\n",
       "       [ 0.1953628 ,  0.16085107],\n",
       "       [ 0.52824196,  0.98300993],\n",
       "       [-0.2216539 ,  0.25160139],\n",
       "       [ 0.22334676,  1.32217183],\n",
       "       [-0.10704572,  0.56178326],\n",
       "       [ 0.63651685,  0.75444825],\n",
       "       [-0.37227848,  0.99291317],\n",
       "       [ 0.20718083, -0.09767143],\n",
       "       [ 0.12733142, -0.3796549 ],\n",
       "       [ 0.71435231, -0.79994161],\n",
       "       [ 1.09487814, -0.36841845],\n",
       "       [-0.14814362,  0.96158657],\n",
       "       [ 1.586188  , -0.62984517],\n",
       "       [ 0.74444551,  0.57661371],\n",
       "       [ 2.18011028, -0.69977751],\n",
       "       [ 0.24575594,  0.8496383 ],\n",
       "       [-0.95003581,  0.90361699],\n",
       "       [-0.88230758,  0.07249044],\n",
       "       [ 2.02297079,  0.12325148],\n",
       "       [ 2.14577321,  0.46296362],\n",
       "       [ 0.35536468, -0.67847989],\n",
       "       [ 0.34665026,  1.11570676],\n",
       "       [ 1.7392373 ,  0.45900352],\n",
       "       [ 0.63856467, -0.44718443],\n",
       "       [ 1.2876687 , -0.4910366 ],\n",
       "       [-0.13772607,  1.2453262 ],\n",
       "       [-0.56175303,  1.05486051],\n",
       "       [ 1.29003748, -0.20691405],\n",
       "       [-0.87539365,  0.50543423],\n",
       "       [-0.92858249, -0.45631991],\n",
       "       [ 0.02493632,  0.10747958],\n",
       "       [ 0.1972559 , -0.06801668],\n",
       "       [ 0.73346056,  0.28161929],\n",
       "       [ 1.68294434, -0.2020423 ],\n",
       "       [ 0.50764124, -0.11731979],\n",
       "       [ 1.66760217, -0.42485665],\n",
       "       [-0.82172282,  0.63141066],\n",
       "       [ 0.30170903,  0.78603534],\n",
       "       [ 1.37671505, -0.80915107],\n",
       "       [ 1.17037551,  0.59840653],\n",
       "       [ 1.69945309,  0.58771967],\n",
       "       [ 0.21862323, -0.65252119],\n",
       "       [ 0.95291428, -0.41976564],\n",
       "       [-1.31850034,  0.42311235],\n",
       "       [-1.29681764,  0.18414709]])"
      ]
     },
     "execution_count": 93,
     "metadata": {},
     "output_type": "execute_result"
    }
   ],
   "source": [
    "ushape.values[:,[0,1]]"
   ]
  },
  {
   "cell_type": "code",
   "execution_count": 94,
   "id": "aecee601",
   "metadata": {},
   "outputs": [
    {
     "data": {
      "text/plain": [
       "<AxesSubplot:>"
      ]
     },
     "execution_count": 94,
     "metadata": {},
     "output_type": "execute_result"
    },
    {
     "data": {
      "image/png": "[encoded data removed]",
      "text/plain": [
       "<Figure size 432x288 with 1 Axes>"
      ]
     },
     "metadata": {
      "needs_background": "light"
     },
     "output_type": "display_data"
    }
   ],
   "source": [
    "knn=KNeighborsClassifier(n_neighbors=11)\n",
    "knn.fit(ushape.values[:,[0,1]],ushape[2].astype(int).values)\n",
    "plot_decision_regions(ushape.values[:,[0,1]],ushape[2].astype(int).values,knn)"
   ]
  },
  {
   "cell_type": "code",
   "execution_count": null,
   "id": "9c323c1e",
   "metadata": {},
   "outputs": [],
   "source": []
  }
 ],
 "metadata": {
  "kernelspec": {
   "display_name": "Python 3 (ipykernel)",
   "language": "python",
   "name": "python3"
  },
  "language_info": {
   "codemirror_mode": {
    "name": "ipython",
    "version": 3
   },
   "file_extension": ".py",
   "mimetype": "text/x-python",
   "name": "python",
   "nbconvert_exporter": "python",
   "pygments_lexer": "ipython3",
   "version": "3.9.12"
  }
 },
 "nbformat": 4,
 "nbformat_minor": 5
}
